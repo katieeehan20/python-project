{
 "cells": [
  {
   "cell_type": "markdown",
   "id": "97f99e9c",
   "metadata": {},
   "source": [
    "Doing sentiment analysis using .sentiment (line 8)"
   ]
  },
  {
   "cell_type": "markdown",
   "id": "d52c787e",
   "metadata": {},
   "source": [
    "Create WordCloud using polarity and wordcloud and stopwords (line 34)"
   ]
  },
  {
   "cell_type": "markdown",
   "id": "085b9aeb",
   "metadata": {},
   "source": [
    "Import emoji (line 22-23) \n",
    "\n",
    "Import ployly for Bar chart (line 38)"
   ]
  },
  {
   "cell_type": "code",
   "execution_count": 50,
   "id": "f9aa6389",
   "metadata": {},
   "outputs": [],
   "source": [
    "import pandas as pd\n",
    "import numpy as np\n",
    "import seaborn as sns\n",
    "import matplotlib.pyplot as plt"
   ]
  },
  {
   "cell_type": "code",
   "execution_count": 2,
   "id": "1b9c5f32",
   "metadata": {},
   "outputs": [
    {
     "name": "stderr",
     "output_type": "stream",
     "text": [
      "b'Skipping line 41589: expected 4 fields, saw 11\\nSkipping line 51628: expected 4 fields, saw 7\\nSkipping line 114465: expected 4 fields, saw 5\\n'\n",
      "b'Skipping line 142496: expected 4 fields, saw 8\\nSkipping line 189732: expected 4 fields, saw 6\\nSkipping line 245218: expected 4 fields, saw 7\\n'\n",
      "b'Skipping line 388430: expected 4 fields, saw 5\\n'\n",
      "C:\\Users\\Kate\\anaconda\\lib\\site-packages\\IPython\\core\\interactiveshell.py:3165: DtypeWarning: Columns (2,3) have mixed types.Specify dtype option on import or set low_memory=False.\n",
      "  has_raised = await self.run_ast_nodes(code_ast.body, cell_name,\n"
     ]
    },
    {
     "data": {
      "text/html": [
       "<div>\n",
       "<style scoped>\n",
       "    .dataframe tbody tr th:only-of-type {\n",
       "        vertical-align: middle;\n",
       "    }\n",
       "\n",
       "    .dataframe tbody tr th {\n",
       "        vertical-align: top;\n",
       "    }\n",
       "\n",
       "    .dataframe thead th {\n",
       "        text-align: right;\n",
       "    }\n",
       "</style>\n",
       "<table border=\"1\" class=\"dataframe\">\n",
       "  <thead>\n",
       "    <tr style=\"text-align: right;\">\n",
       "      <th></th>\n",
       "      <th>video_id</th>\n",
       "      <th>comment_text</th>\n",
       "      <th>likes</th>\n",
       "      <th>replies</th>\n",
       "    </tr>\n",
       "  </thead>\n",
       "  <tbody>\n",
       "    <tr>\n",
       "      <th>0</th>\n",
       "      <td>XpVt6Z1Gjjo</td>\n",
       "      <td>Logan Paul it's yo big day ‼️‼️‼️</td>\n",
       "      <td>4</td>\n",
       "      <td>0</td>\n",
       "    </tr>\n",
       "    <tr>\n",
       "      <th>1</th>\n",
       "      <td>XpVt6Z1Gjjo</td>\n",
       "      <td>I've been following you from the start of your...</td>\n",
       "      <td>3</td>\n",
       "      <td>0</td>\n",
       "    </tr>\n",
       "    <tr>\n",
       "      <th>2</th>\n",
       "      <td>XpVt6Z1Gjjo</td>\n",
       "      <td>Say hi to Kong and maverick for me</td>\n",
       "      <td>3</td>\n",
       "      <td>0</td>\n",
       "    </tr>\n",
       "    <tr>\n",
       "      <th>3</th>\n",
       "      <td>XpVt6Z1Gjjo</td>\n",
       "      <td>MY FAN . attendance</td>\n",
       "      <td>3</td>\n",
       "      <td>0</td>\n",
       "    </tr>\n",
       "    <tr>\n",
       "      <th>4</th>\n",
       "      <td>XpVt6Z1Gjjo</td>\n",
       "      <td>trending 😉</td>\n",
       "      <td>3</td>\n",
       "      <td>0</td>\n",
       "    </tr>\n",
       "  </tbody>\n",
       "</table>\n",
       "</div>"
      ],
      "text/plain": [
       "      video_id                                       comment_text likes  \\\n",
       "0  XpVt6Z1Gjjo                  Logan Paul it's yo big day ‼️‼️‼️     4   \n",
       "1  XpVt6Z1Gjjo  I've been following you from the start of your...     3   \n",
       "2  XpVt6Z1Gjjo                 Say hi to Kong and maverick for me     3   \n",
       "3  XpVt6Z1Gjjo                                MY FAN . attendance     3   \n",
       "4  XpVt6Z1Gjjo                                         trending 😉     3   \n",
       "\n",
       "  replies  \n",
       "0       0  \n",
       "1       0  \n",
       "2       0  \n",
       "3       0  \n",
       "4       0  "
      ]
     },
     "execution_count": 2,
     "metadata": {},
     "output_type": "execute_result"
    }
   ],
   "source": [
    "# uploading the csv file. \n",
    "# include r in front to remove unicode error\n",
    "# To solve the issue of parsererror, include error_bad_lines=False, which means ignore all bad lines/error from the dataframe\n",
    "# head() returns the first 5 observations from my dataframe\n",
    "\n",
    "youtubedata= pd.read_csv(r'C:/datascience/DataScience/Youtube_project_shan_singh/UScomments.csv',error_bad_lines=False)\n",
    "youtubedata.head()"
   ]
  },
  {
   "cell_type": "code",
   "execution_count": 3,
   "id": "8f2fe5f3",
   "metadata": {},
   "outputs": [
    {
     "data": {
      "text/html": [
       "<style type='text/css'>\n",
       ".CodeMirror{font-style: Serif;\n",
       "           font-size:16px;}\n",
       "</style>\n"
      ],
      "text/plain": [
       "<IPython.core.display.HTML object>"
      ]
     },
     "metadata": {},
     "output_type": "display_data"
    }
   ],
   "source": [
    "%%html\n",
    "<style type='text/css'>\n",
    ".CodeMirror{font-style: Serif;\n",
    "           font-size:16px;}\n",
    "</style>"
   ]
  },
  {
   "cell_type": "markdown",
   "id": "9861ca49",
   "metadata": {},
   "source": [
    "Perform sentiment analysis\n",
    "\n",
    "Sentiment analysis is looking at sentiments of the users.\n",
    "\n",
    "That means, you take care of 1) polarity and 2) subjectivity\n",
    "\n",
    "Polarity values range: -1 to +1\n",
    "    \n",
    "If there's no sentiment or polarity, then consider subjectivity"
   ]
  },
  {
   "cell_type": "code",
   "execution_count": null,
   "id": "1ed54fae",
   "metadata": {},
   "outputs": [],
   "source": []
  },
  {
   "cell_type": "markdown",
   "id": "afebdbc0",
   "metadata": {},
   "source": [
    "Packages useful in sentiment analysis:\n",
    "\n",
    "    1) TextBlob (NLP library)\n",
    "    \n",
    "    2) Vader\n",
    "    \n",
    "    3) Epacy"
   ]
  },
  {
   "cell_type": "code",
   "execution_count": 4,
   "id": "44f6d171",
   "metadata": {},
   "outputs": [
    {
     "data": {
      "text/plain": [
       "video_id         0\n",
       "comment_text    25\n",
       "likes            0\n",
       "replies          0\n",
       "dtype: int64"
      ]
     },
     "execution_count": 4,
     "metadata": {},
     "output_type": "execute_result"
    }
   ],
   "source": [
    "# run isnull().sum() gives you 25 missing values\n",
    "\n",
    "youtubedata.isnull().sum()"
   ]
  },
  {
   "cell_type": "code",
   "execution_count": 5,
   "id": "97f018eb",
   "metadata": {},
   "outputs": [],
   "source": [
    "# drop all the missing values by doing  dropna(inplace=True)\n",
    "\n",
    "youtubedata.dropna(inplace=True)"
   ]
  },
  {
   "cell_type": "code",
   "execution_count": 6,
   "id": "11832cc8",
   "metadata": {},
   "outputs": [
    {
     "data": {
      "text/plain": [
       "video_id        0\n",
       "comment_text    0\n",
       "likes           0\n",
       "replies         0\n",
       "dtype: int64"
      ]
     },
     "execution_count": 6,
     "metadata": {},
     "output_type": "execute_result"
    }
   ],
   "source": [
    "youtubedata.isnull().sum()"
   ]
  },
  {
   "cell_type": "code",
   "execution_count": 7,
   "id": "af73bd83",
   "metadata": {},
   "outputs": [
    {
     "name": "stdout",
     "output_type": "stream",
     "text": [
      "Requirement already satisfied: textblob in c:\\users\\kate\\anaconda\\lib\\site-packages (0.17.1)\n",
      "Requirement already satisfied: nltk>=3.1 in c:\\users\\kate\\anaconda\\lib\\site-packages (from textblob) (3.6.1)\n",
      "Requirement already satisfied: click in c:\\users\\kate\\anaconda\\lib\\site-packages (from nltk>=3.1->textblob) (7.1.2)\n",
      "Requirement already satisfied: joblib in c:\\users\\kate\\anaconda\\lib\\site-packages (from nltk>=3.1->textblob) (1.0.1)\n",
      "Requirement already satisfied: tqdm in c:\\users\\kate\\anaconda\\lib\\site-packages (from nltk>=3.1->textblob) (4.59.0)\n",
      "Requirement already satisfied: regex in c:\\users\\kate\\anaconda\\lib\\site-packages (from nltk>=3.1->textblob) (2021.4.4)\n"
     ]
    }
   ],
   "source": [
    "# install textblob package\n",
    "# and then import TextBlob from textblob package\n",
    "\n",
    "!pip install textblob\n",
    "from textblob import TextBlob"
   ]
  },
  {
   "cell_type": "code",
   "execution_count": 8,
   "id": "7805f47d",
   "metadata": {},
   "outputs": [
    {
     "data": {
      "text/plain": [
       "0.0"
      ]
     },
     "execution_count": 8,
     "metadata": {},
     "output_type": "execute_result"
    }
   ],
   "source": [
    "# parse a comment from dataframe and do .sentiment\n",
    "\n",
    "TextBlob('trending 😉').sentiment.polarity"
   ]
  },
  {
   "cell_type": "code",
   "execution_count": null,
   "id": "549dba2e",
   "metadata": {},
   "outputs": [],
   "source": []
  },
  {
   "cell_type": "code",
   "execution_count": 9,
   "id": "ec663b40",
   "metadata": {},
   "outputs": [],
   "source": [
    "# sample of data (as df) from original dataset because the original dataset is too large\n",
    "\n",
    "df=youtubedata[0:10000]"
   ]
  },
  {
   "cell_type": "code",
   "execution_count": 10,
   "id": "08e00f2f",
   "metadata": {},
   "outputs": [],
   "source": [
    "polarity=[]\n",
    "\n",
    "for i in df['comment_text']:\n",
    "    try:\n",
    "        polarity.append(TextBlob(i).sentiment.polarity)\n",
    "    except:\n",
    "        polarity.append(NA)"
   ]
  },
  {
   "cell_type": "code",
   "execution_count": 11,
   "id": "0b9c32a4",
   "metadata": {},
   "outputs": [
    {
     "name": "stderr",
     "output_type": "stream",
     "text": [
      "<ipython-input-11-2767a4248e18>:1: SettingWithCopyWarning: \n",
      "A value is trying to be set on a copy of a slice from a DataFrame.\n",
      "Try using .loc[row_indexer,col_indexer] = value instead\n",
      "\n",
      "See the caveats in the documentation: https://pandas.pydata.org/pandas-docs/stable/user_guide/indexing.html#returning-a-view-versus-a-copy\n",
      "  df['polarity']=polarity\n"
     ]
    }
   ],
   "source": [
    "df['polarity']=polarity"
   ]
  },
  {
   "cell_type": "code",
   "execution_count": 12,
   "id": "033fa038",
   "metadata": {},
   "outputs": [
    {
     "data": {
      "text/html": [
       "<div>\n",
       "<style scoped>\n",
       "    .dataframe tbody tr th:only-of-type {\n",
       "        vertical-align: middle;\n",
       "    }\n",
       "\n",
       "    .dataframe tbody tr th {\n",
       "        vertical-align: top;\n",
       "    }\n",
       "\n",
       "    .dataframe thead th {\n",
       "        text-align: right;\n",
       "    }\n",
       "</style>\n",
       "<table border=\"1\" class=\"dataframe\">\n",
       "  <thead>\n",
       "    <tr style=\"text-align: right;\">\n",
       "      <th></th>\n",
       "      <th>video_id</th>\n",
       "      <th>comment_text</th>\n",
       "      <th>likes</th>\n",
       "      <th>replies</th>\n",
       "      <th>polarity</th>\n",
       "    </tr>\n",
       "  </thead>\n",
       "  <tbody>\n",
       "    <tr>\n",
       "      <th>0</th>\n",
       "      <td>XpVt6Z1Gjjo</td>\n",
       "      <td>Logan Paul it's yo big day ‼️‼️‼️</td>\n",
       "      <td>4</td>\n",
       "      <td>0</td>\n",
       "      <td>0.000000</td>\n",
       "    </tr>\n",
       "    <tr>\n",
       "      <th>1</th>\n",
       "      <td>XpVt6Z1Gjjo</td>\n",
       "      <td>I've been following you from the start of your...</td>\n",
       "      <td>3</td>\n",
       "      <td>0</td>\n",
       "      <td>0.000000</td>\n",
       "    </tr>\n",
       "    <tr>\n",
       "      <th>2</th>\n",
       "      <td>XpVt6Z1Gjjo</td>\n",
       "      <td>Say hi to Kong and maverick for me</td>\n",
       "      <td>3</td>\n",
       "      <td>0</td>\n",
       "      <td>0.000000</td>\n",
       "    </tr>\n",
       "    <tr>\n",
       "      <th>3</th>\n",
       "      <td>XpVt6Z1Gjjo</td>\n",
       "      <td>MY FAN . attendance</td>\n",
       "      <td>3</td>\n",
       "      <td>0</td>\n",
       "      <td>0.000000</td>\n",
       "    </tr>\n",
       "    <tr>\n",
       "      <th>4</th>\n",
       "      <td>XpVt6Z1Gjjo</td>\n",
       "      <td>trending 😉</td>\n",
       "      <td>3</td>\n",
       "      <td>0</td>\n",
       "      <td>0.000000</td>\n",
       "    </tr>\n",
       "    <tr>\n",
       "      <th>5</th>\n",
       "      <td>XpVt6Z1Gjjo</td>\n",
       "      <td>#1 on trending AYYEEEEE</td>\n",
       "      <td>3</td>\n",
       "      <td>0</td>\n",
       "      <td>0.000000</td>\n",
       "    </tr>\n",
       "    <tr>\n",
       "      <th>6</th>\n",
       "      <td>XpVt6Z1Gjjo</td>\n",
       "      <td>The end though 😭👍🏻❤️</td>\n",
       "      <td>4</td>\n",
       "      <td>0</td>\n",
       "      <td>0.000000</td>\n",
       "    </tr>\n",
       "    <tr>\n",
       "      <th>7</th>\n",
       "      <td>XpVt6Z1Gjjo</td>\n",
       "      <td>#1 trending!!!!!!!!!</td>\n",
       "      <td>3</td>\n",
       "      <td>0</td>\n",
       "      <td>0.000000</td>\n",
       "    </tr>\n",
       "    <tr>\n",
       "      <th>8</th>\n",
       "      <td>XpVt6Z1Gjjo</td>\n",
       "      <td>Happy one year vlogaversary</td>\n",
       "      <td>3</td>\n",
       "      <td>0</td>\n",
       "      <td>0.800000</td>\n",
       "    </tr>\n",
       "    <tr>\n",
       "      <th>9</th>\n",
       "      <td>XpVt6Z1Gjjo</td>\n",
       "      <td>You and your shit brother may have single hand...</td>\n",
       "      <td>0</td>\n",
       "      <td>0</td>\n",
       "      <td>-0.135714</td>\n",
       "    </tr>\n",
       "    <tr>\n",
       "      <th>10</th>\n",
       "      <td>XpVt6Z1Gjjo</td>\n",
       "      <td>There should be a mini Logan Paul too!</td>\n",
       "      <td>0</td>\n",
       "      <td>0</td>\n",
       "      <td>0.000000</td>\n",
       "    </tr>\n",
       "    <tr>\n",
       "      <th>11</th>\n",
       "      <td>XpVt6Z1Gjjo</td>\n",
       "      <td>Dear Logan, I really wanna get your Merch but ...</td>\n",
       "      <td>0</td>\n",
       "      <td>0</td>\n",
       "      <td>0.200000</td>\n",
       "    </tr>\n",
       "    <tr>\n",
       "      <th>12</th>\n",
       "      <td>XpVt6Z1Gjjo</td>\n",
       "      <td>Honestly Evan is so annoying. Like its not fun...</td>\n",
       "      <td>0</td>\n",
       "      <td>0</td>\n",
       "      <td>-0.023333</td>\n",
       "    </tr>\n",
       "    <tr>\n",
       "      <th>13</th>\n",
       "      <td>XpVt6Z1Gjjo</td>\n",
       "      <td>Casey is still better then logan</td>\n",
       "      <td>0</td>\n",
       "      <td>0</td>\n",
       "      <td>0.500000</td>\n",
       "    </tr>\n",
       "    <tr>\n",
       "      <th>14</th>\n",
       "      <td>XpVt6Z1Gjjo</td>\n",
       "      <td>aw geez rick this guy is the face of YouTube.</td>\n",
       "      <td>0</td>\n",
       "      <td>0</td>\n",
       "      <td>0.000000</td>\n",
       "    </tr>\n",
       "  </tbody>\n",
       "</table>\n",
       "</div>"
      ],
      "text/plain": [
       "       video_id                                       comment_text likes  \\\n",
       "0   XpVt6Z1Gjjo                  Logan Paul it's yo big day ‼️‼️‼️     4   \n",
       "1   XpVt6Z1Gjjo  I've been following you from the start of your...     3   \n",
       "2   XpVt6Z1Gjjo                 Say hi to Kong and maverick for me     3   \n",
       "3   XpVt6Z1Gjjo                                MY FAN . attendance     3   \n",
       "4   XpVt6Z1Gjjo                                         trending 😉     3   \n",
       "5   XpVt6Z1Gjjo                            #1 on trending AYYEEEEE     3   \n",
       "6   XpVt6Z1Gjjo                               The end though 😭👍🏻❤️     4   \n",
       "7   XpVt6Z1Gjjo                               #1 trending!!!!!!!!!     3   \n",
       "8   XpVt6Z1Gjjo                        Happy one year vlogaversary     3   \n",
       "9   XpVt6Z1Gjjo  You and your shit brother may have single hand...     0   \n",
       "10  XpVt6Z1Gjjo             There should be a mini Logan Paul too!     0   \n",
       "11  XpVt6Z1Gjjo  Dear Logan, I really wanna get your Merch but ...     0   \n",
       "12  XpVt6Z1Gjjo  Honestly Evan is so annoying. Like its not fun...     0   \n",
       "13  XpVt6Z1Gjjo                   Casey is still better then logan     0   \n",
       "14  XpVt6Z1Gjjo      aw geez rick this guy is the face of YouTube.     0   \n",
       "\n",
       "   replies  polarity  \n",
       "0        0  0.000000  \n",
       "1        0  0.000000  \n",
       "2        0  0.000000  \n",
       "3        0  0.000000  \n",
       "4        0  0.000000  \n",
       "5        0  0.000000  \n",
       "6        0  0.000000  \n",
       "7        0  0.000000  \n",
       "8        0  0.800000  \n",
       "9        0 -0.135714  \n",
       "10       0  0.000000  \n",
       "11       0  0.200000  \n",
       "12       0 -0.023333  \n",
       "13       0  0.500000  \n",
       "14       0  0.000000  "
      ]
     },
     "execution_count": 12,
     "metadata": {},
     "output_type": "execute_result"
    }
   ],
   "source": [
    "df.head(15)"
   ]
  },
  {
   "cell_type": "raw",
   "id": "45340f09",
   "metadata": {},
   "source": [
    "2.\n",
    "\n",
    "Generate a wordcloud of positive and negative sentences\n",
    "\n",
    "Any sentence with polarity=+1 is positibe sentence\n",
    "\n",
    "Any sentence with polarity=-1 is negative sentence"
   ]
  },
  {
   "cell_type": "code",
   "execution_count": 13,
   "id": "c1fde474",
   "metadata": {},
   "outputs": [
    {
     "data": {
      "text/html": [
       "<div>\n",
       "<style scoped>\n",
       "    .dataframe tbody tr th:only-of-type {\n",
       "        vertical-align: middle;\n",
       "    }\n",
       "\n",
       "    .dataframe tbody tr th {\n",
       "        vertical-align: top;\n",
       "    }\n",
       "\n",
       "    .dataframe thead th {\n",
       "        text-align: right;\n",
       "    }\n",
       "</style>\n",
       "<table border=\"1\" class=\"dataframe\">\n",
       "  <thead>\n",
       "    <tr style=\"text-align: right;\">\n",
       "      <th></th>\n",
       "      <th>video_id</th>\n",
       "      <th>comment_text</th>\n",
       "      <th>likes</th>\n",
       "      <th>replies</th>\n",
       "      <th>polarity</th>\n",
       "    </tr>\n",
       "  </thead>\n",
       "  <tbody>\n",
       "    <tr>\n",
       "      <th>64</th>\n",
       "      <td>XpVt6Z1Gjjo</td>\n",
       "      <td>yu are the best</td>\n",
       "      <td>1</td>\n",
       "      <td>0</td>\n",
       "      <td>1.0</td>\n",
       "    </tr>\n",
       "    <tr>\n",
       "      <th>156</th>\n",
       "      <td>cLdxuaxaQwc</td>\n",
       "      <td>Power is the disease.  Care is the cure.  Keep...</td>\n",
       "      <td>0</td>\n",
       "      <td>0</td>\n",
       "      <td>1.0</td>\n",
       "    </tr>\n",
       "    <tr>\n",
       "      <th>227</th>\n",
       "      <td>WYYvHb03Eog</td>\n",
       "      <td>YAS Can't wait to get it! I just need to sell ...</td>\n",
       "      <td>0</td>\n",
       "      <td>0</td>\n",
       "      <td>1.0</td>\n",
       "    </tr>\n",
       "    <tr>\n",
       "      <th>307</th>\n",
       "      <td>sjlHnJvXdQs</td>\n",
       "      <td>This is priceless</td>\n",
       "      <td>0</td>\n",
       "      <td>0</td>\n",
       "      <td>1.0</td>\n",
       "    </tr>\n",
       "    <tr>\n",
       "      <th>319</th>\n",
       "      <td>sjlHnJvXdQs</td>\n",
       "      <td>Summed up perfectly</td>\n",
       "      <td>0</td>\n",
       "      <td>0</td>\n",
       "      <td>1.0</td>\n",
       "    </tr>\n",
       "    <tr>\n",
       "      <th>...</th>\n",
       "      <td>...</td>\n",
       "      <td>...</td>\n",
       "      <td>...</td>\n",
       "      <td>...</td>\n",
       "      <td>...</td>\n",
       "    </tr>\n",
       "    <tr>\n",
       "      <th>9841</th>\n",
       "      <td>3x-sUsazQ90</td>\n",
       "      <td>Great video and narration!</td>\n",
       "      <td>0</td>\n",
       "      <td>0</td>\n",
       "      <td>1.0</td>\n",
       "    </tr>\n",
       "    <tr>\n",
       "      <th>9842</th>\n",
       "      <td>3x-sUsazQ90</td>\n",
       "      <td>This is really impressive</td>\n",
       "      <td>0</td>\n",
       "      <td>0</td>\n",
       "      <td>1.0</td>\n",
       "    </tr>\n",
       "    <tr>\n",
       "      <th>9844</th>\n",
       "      <td>3x-sUsazQ90</td>\n",
       "      <td>Placed an order yesterday. Will be patiently w...</td>\n",
       "      <td>0</td>\n",
       "      <td>0</td>\n",
       "      <td>1.0</td>\n",
       "    </tr>\n",
       "    <tr>\n",
       "      <th>9889</th>\n",
       "      <td>7Lyo5dCig-U</td>\n",
       "      <td>That would honestly be me, lol!</td>\n",
       "      <td>0</td>\n",
       "      <td>0</td>\n",
       "      <td>1.0</td>\n",
       "    </tr>\n",
       "    <tr>\n",
       "      <th>9993</th>\n",
       "      <td>lwOQbMcXtfU</td>\n",
       "      <td>perfect opportunity for these metal detector d...</td>\n",
       "      <td>0</td>\n",
       "      <td>0</td>\n",
       "      <td>1.0</td>\n",
       "    </tr>\n",
       "  </tbody>\n",
       "</table>\n",
       "<p>246 rows × 5 columns</p>\n",
       "</div>"
      ],
      "text/plain": [
       "         video_id                                       comment_text likes  \\\n",
       "64    XpVt6Z1Gjjo                                    yu are the best     1   \n",
       "156   cLdxuaxaQwc  Power is the disease.  Care is the cure.  Keep...     0   \n",
       "227   WYYvHb03Eog  YAS Can't wait to get it! I just need to sell ...     0   \n",
       "307   sjlHnJvXdQs                                  This is priceless     0   \n",
       "319   sjlHnJvXdQs                                Summed up perfectly     0   \n",
       "...           ...                                                ...   ...   \n",
       "9841  3x-sUsazQ90                         Great video and narration!     0   \n",
       "9842  3x-sUsazQ90                          This is really impressive     0   \n",
       "9844  3x-sUsazQ90  Placed an order yesterday. Will be patiently w...     0   \n",
       "9889  7Lyo5dCig-U                    That would honestly be me, lol!     0   \n",
       "9993  lwOQbMcXtfU  perfect opportunity for these metal detector d...     0   \n",
       "\n",
       "     replies  polarity  \n",
       "64         0       1.0  \n",
       "156        0       1.0  \n",
       "227        0       1.0  \n",
       "307        0       1.0  \n",
       "319        0       1.0  \n",
       "...      ...       ...  \n",
       "9841       0       1.0  \n",
       "9842       0       1.0  \n",
       "9844       0       1.0  \n",
       "9889       0       1.0  \n",
       "9993       0       1.0  \n",
       "\n",
       "[246 rows x 5 columns]"
      ]
     },
     "execution_count": 13,
     "metadata": {},
     "output_type": "execute_result"
    }
   ],
   "source": [
    "# all the instances where in df that has polarity ==1\n",
    "\n",
    "df_positive=df[df['polarity']==1]\n",
    "df_positive"
   ]
  },
  {
   "cell_type": "code",
   "execution_count": 14,
   "id": "b7ac87d9",
   "metadata": {},
   "outputs": [
    {
     "data": {
      "text/html": [
       "<div>\n",
       "<style scoped>\n",
       "    .dataframe tbody tr th:only-of-type {\n",
       "        vertical-align: middle;\n",
       "    }\n",
       "\n",
       "    .dataframe tbody tr th {\n",
       "        vertical-align: top;\n",
       "    }\n",
       "\n",
       "    .dataframe thead th {\n",
       "        text-align: right;\n",
       "    }\n",
       "</style>\n",
       "<table border=\"1\" class=\"dataframe\">\n",
       "  <thead>\n",
       "    <tr style=\"text-align: right;\">\n",
       "      <th></th>\n",
       "      <th>video_id</th>\n",
       "      <th>comment_text</th>\n",
       "      <th>likes</th>\n",
       "      <th>replies</th>\n",
       "      <th>polarity</th>\n",
       "    </tr>\n",
       "  </thead>\n",
       "  <tbody>\n",
       "    <tr>\n",
       "      <th>512</th>\n",
       "      <td>8wNr-NQImFg</td>\n",
       "      <td>BEN CARSON IS THE MAN!!!!! THEY HATE HIM CAUSE...</td>\n",
       "      <td>0</td>\n",
       "      <td>0</td>\n",
       "      <td>-1.0</td>\n",
       "    </tr>\n",
       "    <tr>\n",
       "      <th>562</th>\n",
       "      <td>8wNr-NQImFg</td>\n",
       "      <td>Well… The brain surgeon Ben Carson just proved...</td>\n",
       "      <td>0</td>\n",
       "      <td>0</td>\n",
       "      <td>-1.0</td>\n",
       "    </tr>\n",
       "    <tr>\n",
       "      <th>952</th>\n",
       "      <td>Ayb_2qbZHm4</td>\n",
       "      <td>WHY DID YOU MAKE FURRY FORCE?! SO NASTY!!!</td>\n",
       "      <td>0</td>\n",
       "      <td>0</td>\n",
       "      <td>-1.0</td>\n",
       "    </tr>\n",
       "    <tr>\n",
       "      <th>1371</th>\n",
       "      <td>vu_9muoxT50</td>\n",
       "      <td>WTF BRUH!!!!!!</td>\n",
       "      <td>0</td>\n",
       "      <td>0</td>\n",
       "      <td>-1.0</td>\n",
       "    </tr>\n",
       "    <tr>\n",
       "      <th>1391</th>\n",
       "      <td>vu_9muoxT50</td>\n",
       "      <td>cheeseus christ thats insane!!!</td>\n",
       "      <td>0</td>\n",
       "      <td>0</td>\n",
       "      <td>-1.0</td>\n",
       "    </tr>\n",
       "    <tr>\n",
       "      <th>1932</th>\n",
       "      <td>-Ifnaxi2LQg</td>\n",
       "      <td>this is the worst thing i've heard. ever.</td>\n",
       "      <td>0</td>\n",
       "      <td>0</td>\n",
       "      <td>-1.0</td>\n",
       "    </tr>\n",
       "    <tr>\n",
       "      <th>2043</th>\n",
       "      <td>B7YaMkCl3XA</td>\n",
       "      <td>Economy is horrible in Cuba. It's going to be ...</td>\n",
       "      <td>0</td>\n",
       "      <td>0</td>\n",
       "      <td>-1.0</td>\n",
       "    </tr>\n",
       "    <tr>\n",
       "      <th>2088</th>\n",
       "      <td>B7YaMkCl3XA</td>\n",
       "      <td>Sub to me if this is terrible</td>\n",
       "      <td>0</td>\n",
       "      <td>1</td>\n",
       "      <td>-1.0</td>\n",
       "    </tr>\n",
       "    <tr>\n",
       "      <th>2192</th>\n",
       "      <td>5ywKal6-anc</td>\n",
       "      <td>PATHETIC</td>\n",
       "      <td>1</td>\n",
       "      <td>0</td>\n",
       "      <td>-1.0</td>\n",
       "    </tr>\n",
       "    <tr>\n",
       "      <th>2410</th>\n",
       "      <td>EVp4-qjWVJE</td>\n",
       "      <td>I don't like this sportscaster  sounds very an...</td>\n",
       "      <td>0</td>\n",
       "      <td>0</td>\n",
       "      <td>-1.0</td>\n",
       "    </tr>\n",
       "    <tr>\n",
       "      <th>2482</th>\n",
       "      <td>EVp4-qjWVJE</td>\n",
       "      <td>commentators are awful</td>\n",
       "      <td>0</td>\n",
       "      <td>0</td>\n",
       "      <td>-1.0</td>\n",
       "    </tr>\n",
       "    <tr>\n",
       "      <th>2728</th>\n",
       "      <td>1ZNZY-gd3K0</td>\n",
       "      <td>This tv show became trump witch hunt tube... a...</td>\n",
       "      <td>0</td>\n",
       "      <td>0</td>\n",
       "      <td>-1.0</td>\n",
       "    </tr>\n",
       "    <tr>\n",
       "      <th>2733</th>\n",
       "      <td>1ZNZY-gd3K0</td>\n",
       "      <td>Arpaio should be arrested again for horribly b...</td>\n",
       "      <td>0</td>\n",
       "      <td>0</td>\n",
       "      <td>-1.0</td>\n",
       "    </tr>\n",
       "    <tr>\n",
       "      <th>2750</th>\n",
       "      <td>1ZNZY-gd3K0</td>\n",
       "      <td>This  show has become one-noted and pathetic.</td>\n",
       "      <td>0</td>\n",
       "      <td>0</td>\n",
       "      <td>-1.0</td>\n",
       "    </tr>\n",
       "    <tr>\n",
       "      <th>2817</th>\n",
       "      <td>2wxyDrfwlXQ</td>\n",
       "      <td>HARD CANDY!!!!!!!!!!!</td>\n",
       "      <td>0</td>\n",
       "      <td>0</td>\n",
       "      <td>-1.0</td>\n",
       "    </tr>\n",
       "    <tr>\n",
       "      <th>2886</th>\n",
       "      <td>2wxyDrfwlXQ</td>\n",
       "      <td>Tired of the philosophy add !!!!!!!</td>\n",
       "      <td>0</td>\n",
       "      <td>0</td>\n",
       "      <td>-1.0</td>\n",
       "    </tr>\n",
       "    <tr>\n",
       "      <th>3086</th>\n",
       "      <td>ql0Op1VcELw</td>\n",
       "      <td>boring</td>\n",
       "      <td>0</td>\n",
       "      <td>0</td>\n",
       "      <td>-1.0</td>\n",
       "    </tr>\n",
       "    <tr>\n",
       "      <th>3092</th>\n",
       "      <td>ql0Op1VcELw</td>\n",
       "      <td>0:22   **laughs at terrible pun**</td>\n",
       "      <td>1</td>\n",
       "      <td>1</td>\n",
       "      <td>-1.0</td>\n",
       "    </tr>\n",
       "    <tr>\n",
       "      <th>3222</th>\n",
       "      <td>GGm0FQ6i74U</td>\n",
       "      <td>Why is media even covering this disgusting wom...</td>\n",
       "      <td>0</td>\n",
       "      <td>0</td>\n",
       "      <td>-1.0</td>\n",
       "    </tr>\n",
       "    <tr>\n",
       "      <th>3371</th>\n",
       "      <td>a7Sf_H2cFdM</td>\n",
       "      <td>How is this trending ? Awful</td>\n",
       "      <td>0</td>\n",
       "      <td>0</td>\n",
       "      <td>-1.0</td>\n",
       "    </tr>\n",
       "    <tr>\n",
       "      <th>3514</th>\n",
       "      <td>l_uNfGY3v8E</td>\n",
       "      <td>a horrible attempt to try and get us to freak out</td>\n",
       "      <td>0</td>\n",
       "      <td>0</td>\n",
       "      <td>-1.0</td>\n",
       "    </tr>\n",
       "    <tr>\n",
       "      <th>3529</th>\n",
       "      <td>l_uNfGY3v8E</td>\n",
       "      <td>this is one of the worst videos I've ever seen</td>\n",
       "      <td>0</td>\n",
       "      <td>0</td>\n",
       "      <td>-1.0</td>\n",
       "    </tr>\n",
       "    <tr>\n",
       "      <th>3561</th>\n",
       "      <td>l_uNfGY3v8E</td>\n",
       "      <td>Whats with the horrible music? tf</td>\n",
       "      <td>0</td>\n",
       "      <td>0</td>\n",
       "      <td>-1.0</td>\n",
       "    </tr>\n",
       "    <tr>\n",
       "      <th>4006</th>\n",
       "      <td>qJJHhVf3_ZM</td>\n",
       "      <td>She is the worst.</td>\n",
       "      <td>10</td>\n",
       "      <td>1</td>\n",
       "      <td>-1.0</td>\n",
       "    </tr>\n",
       "    <tr>\n",
       "      <th>4094</th>\n",
       "      <td>qJJHhVf3_ZM</td>\n",
       "      <td>Boring</td>\n",
       "      <td>2</td>\n",
       "      <td>0</td>\n",
       "      <td>-1.0</td>\n",
       "    </tr>\n",
       "    <tr>\n",
       "      <th>4481</th>\n",
       "      <td>L3f7_y9UPh4</td>\n",
       "      <td>boring</td>\n",
       "      <td>0</td>\n",
       "      <td>0</td>\n",
       "      <td>-1.0</td>\n",
       "    </tr>\n",
       "    <tr>\n",
       "      <th>4699</th>\n",
       "      <td>WoPtuVbaSKQ</td>\n",
       "      <td>Pls make star vs the forces of evil cookies or...</td>\n",
       "      <td>0</td>\n",
       "      <td>0</td>\n",
       "      <td>-1.0</td>\n",
       "    </tr>\n",
       "    <tr>\n",
       "      <th>4924</th>\n",
       "      <td>NzRuDD0iYC0</td>\n",
       "      <td>Oliver is an idiot!</td>\n",
       "      <td>0</td>\n",
       "      <td>0</td>\n",
       "      <td>-1.0</td>\n",
       "    </tr>\n",
       "    <tr>\n",
       "      <th>5397</th>\n",
       "      <td>LTnl36-0-zU</td>\n",
       "      <td>I won't read this comment. What a Dick I am, I...</td>\n",
       "      <td>0</td>\n",
       "      <td>0</td>\n",
       "      <td>-1.0</td>\n",
       "    </tr>\n",
       "    <tr>\n",
       "      <th>5551</th>\n",
       "      <td>c7ymY8QEB2g</td>\n",
       "      <td>Terrible</td>\n",
       "      <td>0</td>\n",
       "      <td>0</td>\n",
       "      <td>-1.0</td>\n",
       "    </tr>\n",
       "    <tr>\n",
       "      <th>5773</th>\n",
       "      <td>08RHSZvixec</td>\n",
       "      <td>They got the worst brand of honey soy chips 😂</td>\n",
       "      <td>1</td>\n",
       "      <td>0</td>\n",
       "      <td>-1.0</td>\n",
       "    </tr>\n",
       "    <tr>\n",
       "      <th>5920</th>\n",
       "      <td>GpAuCG6iUcA</td>\n",
       "      <td>Please let this die, you can tell the actors a...</td>\n",
       "      <td>0</td>\n",
       "      <td>0</td>\n",
       "      <td>-1.0</td>\n",
       "    </tr>\n",
       "    <tr>\n",
       "      <th>5943</th>\n",
       "      <td>GpAuCG6iUcA</td>\n",
       "      <td>can't wait :'(</td>\n",
       "      <td>0</td>\n",
       "      <td>0</td>\n",
       "      <td>-1.0</td>\n",
       "    </tr>\n",
       "    <tr>\n",
       "      <th>5959</th>\n",
       "      <td>GpAuCG6iUcA</td>\n",
       "      <td>Don't be bringing cucumbers to the theaters th...</td>\n",
       "      <td>0</td>\n",
       "      <td>0</td>\n",
       "      <td>-1.0</td>\n",
       "    </tr>\n",
       "    <tr>\n",
       "      <th>6083</th>\n",
       "      <td>eRDxDEhEgNY</td>\n",
       "      <td>OMG...he's Stephen FUCKING Hawkings !!!!   (sa...</td>\n",
       "      <td>0</td>\n",
       "      <td>0</td>\n",
       "      <td>-1.0</td>\n",
       "    </tr>\n",
       "    <tr>\n",
       "      <th>6263</th>\n",
       "      <td>xKXxJcf6_IE</td>\n",
       "      <td>Does Tommy knows that he's horrible?</td>\n",
       "      <td>0</td>\n",
       "      <td>0</td>\n",
       "      <td>-1.0</td>\n",
       "    </tr>\n",
       "    <tr>\n",
       "      <th>6442</th>\n",
       "      <td>YQYslaA1Lus</td>\n",
       "      <td>Insane album</td>\n",
       "      <td>0</td>\n",
       "      <td>0</td>\n",
       "      <td>-1.0</td>\n",
       "    </tr>\n",
       "    <tr>\n",
       "      <th>6592</th>\n",
       "      <td>brfJuyTADuQ</td>\n",
       "      <td>this is boring</td>\n",
       "      <td>0</td>\n",
       "      <td>0</td>\n",
       "      <td>-1.0</td>\n",
       "    </tr>\n",
       "    <tr>\n",
       "      <th>7698</th>\n",
       "      <td>1Sm8A-u1vIA</td>\n",
       "      <td>The ripping of the evil Qur’aan and If I am no...</td>\n",
       "      <td>1</td>\n",
       "      <td>0</td>\n",
       "      <td>-1.0</td>\n",
       "    </tr>\n",
       "    <tr>\n",
       "      <th>7742</th>\n",
       "      <td>JsTptu56GM8</td>\n",
       "      <td>Whoever did your makeup did a terrible job.</td>\n",
       "      <td>0</td>\n",
       "      <td>0</td>\n",
       "      <td>-1.0</td>\n",
       "    </tr>\n",
       "    <tr>\n",
       "      <th>7978</th>\n",
       "      <td>tteLMfFDCb4</td>\n",
       "      <td>Her book should be titled, Damn I can't even b...</td>\n",
       "      <td>0</td>\n",
       "      <td>0</td>\n",
       "      <td>-1.0</td>\n",
       "    </tr>\n",
       "    <tr>\n",
       "      <th>7979</th>\n",
       "      <td>tteLMfFDCb4</td>\n",
       "      <td>The like to dislike ratio to this video is jus...</td>\n",
       "      <td>0</td>\n",
       "      <td>0</td>\n",
       "      <td>-1.0</td>\n",
       "    </tr>\n",
       "    <tr>\n",
       "      <th>8283</th>\n",
       "      <td>B_CHjYoqPUU</td>\n",
       "      <td>Is she into you? If you watch I video like thi...</td>\n",
       "      <td>0</td>\n",
       "      <td>0</td>\n",
       "      <td>-1.0</td>\n",
       "    </tr>\n",
       "    <tr>\n",
       "      <th>8365</th>\n",
       "      <td>kCKTmL5Hn-M</td>\n",
       "      <td>Do you guys JUST hate it when people edit thei...</td>\n",
       "      <td>0</td>\n",
       "      <td>0</td>\n",
       "      <td>-1.0</td>\n",
       "    </tr>\n",
       "    <tr>\n",
       "      <th>8435</th>\n",
       "      <td>N4Jb3gkrGXI</td>\n",
       "      <td>she has the worst fashion sense</td>\n",
       "      <td>0</td>\n",
       "      <td>0</td>\n",
       "      <td>-1.0</td>\n",
       "    </tr>\n",
       "    <tr>\n",
       "      <th>8570</th>\n",
       "      <td>0Yhaei1S5oQ</td>\n",
       "      <td>3:33 to 3:36 they would jerk around uncontroll...</td>\n",
       "      <td>0</td>\n",
       "      <td>0</td>\n",
       "      <td>-1.0</td>\n",
       "    </tr>\n",
       "    <tr>\n",
       "      <th>9150</th>\n",
       "      <td>LpZqwLZP5Vs</td>\n",
       "      <td>Prayers to everyone who was affected by this t...</td>\n",
       "      <td>0</td>\n",
       "      <td>0</td>\n",
       "      <td>-1.0</td>\n",
       "    </tr>\n",
       "    <tr>\n",
       "      <th>9225</th>\n",
       "      <td>LpZqwLZP5Vs</td>\n",
       "      <td>9/11 was a terrible day but it did bring all A...</td>\n",
       "      <td>1</td>\n",
       "      <td>2</td>\n",
       "      <td>-1.0</td>\n",
       "    </tr>\n",
       "    <tr>\n",
       "      <th>9233</th>\n",
       "      <td>fCh5TVGaTSg</td>\n",
       "      <td>she's horrible, stop hiring for looks alone.</td>\n",
       "      <td>82</td>\n",
       "      <td>22</td>\n",
       "      <td>-1.0</td>\n",
       "    </tr>\n",
       "    <tr>\n",
       "      <th>9241</th>\n",
       "      <td>fCh5TVGaTSg</td>\n",
       "      <td>She's awful</td>\n",
       "      <td>12</td>\n",
       "      <td>2</td>\n",
       "      <td>-1.0</td>\n",
       "    </tr>\n",
       "    <tr>\n",
       "      <th>9277</th>\n",
       "      <td>fCh5TVGaTSg</td>\n",
       "      <td>Every *9/11* something horrific happens..</td>\n",
       "      <td>0</td>\n",
       "      <td>0</td>\n",
       "      <td>-1.0</td>\n",
       "    </tr>\n",
       "    <tr>\n",
       "      <th>9535</th>\n",
       "      <td>-cYk6sbe11c</td>\n",
       "      <td>oh my god it's so crazy!!! dios protejenos  de...</td>\n",
       "      <td>0</td>\n",
       "      <td>0</td>\n",
       "      <td>-1.0</td>\n",
       "    </tr>\n",
       "    <tr>\n",
       "      <th>9736</th>\n",
       "      <td>_NlKTMvnjIc</td>\n",
       "      <td>Pathetic...</td>\n",
       "      <td>0</td>\n",
       "      <td>0</td>\n",
       "      <td>-1.0</td>\n",
       "    </tr>\n",
       "    <tr>\n",
       "      <th>9944</th>\n",
       "      <td>7Lyo5dCig-U</td>\n",
       "      <td>WHAT IDIOT!</td>\n",
       "      <td>0</td>\n",
       "      <td>0</td>\n",
       "      <td>-1.0</td>\n",
       "    </tr>\n",
       "  </tbody>\n",
       "</table>\n",
       "</div>"
      ],
      "text/plain": [
       "         video_id                                       comment_text likes  \\\n",
       "512   8wNr-NQImFg  BEN CARSON IS THE MAN!!!!! THEY HATE HIM CAUSE...     0   \n",
       "562   8wNr-NQImFg  Well… The brain surgeon Ben Carson just proved...     0   \n",
       "952   Ayb_2qbZHm4         WHY DID YOU MAKE FURRY FORCE?! SO NASTY!!!     0   \n",
       "1371  vu_9muoxT50                                     WTF BRUH!!!!!!     0   \n",
       "1391  vu_9muoxT50                    cheeseus christ thats insane!!!     0   \n",
       "1932  -Ifnaxi2LQg          this is the worst thing i've heard. ever.     0   \n",
       "2043  B7YaMkCl3XA  Economy is horrible in Cuba. It's going to be ...     0   \n",
       "2088  B7YaMkCl3XA                      Sub to me if this is terrible     0   \n",
       "2192  5ywKal6-anc                                           PATHETIC     1   \n",
       "2410  EVp4-qjWVJE  I don't like this sportscaster  sounds very an...     0   \n",
       "2482  EVp4-qjWVJE                             commentators are awful     0   \n",
       "2728  1ZNZY-gd3K0  This tv show became trump witch hunt tube... a...     0   \n",
       "2733  1ZNZY-gd3K0  Arpaio should be arrested again for horribly b...     0   \n",
       "2750  1ZNZY-gd3K0      This  show has become one-noted and pathetic.     0   \n",
       "2817  2wxyDrfwlXQ                              HARD CANDY!!!!!!!!!!!     0   \n",
       "2886  2wxyDrfwlXQ                Tired of the philosophy add !!!!!!!     0   \n",
       "3086  ql0Op1VcELw                                             boring     0   \n",
       "3092  ql0Op1VcELw                  0:22   **laughs at terrible pun**     1   \n",
       "3222  GGm0FQ6i74U  Why is media even covering this disgusting wom...     0   \n",
       "3371  a7Sf_H2cFdM                       How is this trending ? Awful     0   \n",
       "3514  l_uNfGY3v8E  a horrible attempt to try and get us to freak out     0   \n",
       "3529  l_uNfGY3v8E     this is one of the worst videos I've ever seen     0   \n",
       "3561  l_uNfGY3v8E                  Whats with the horrible music? tf     0   \n",
       "4006  qJJHhVf3_ZM                                  She is the worst.    10   \n",
       "4094  qJJHhVf3_ZM                                             Boring     2   \n",
       "4481  L3f7_y9UPh4                                             boring     0   \n",
       "4699  WoPtuVbaSKQ  Pls make star vs the forces of evil cookies or...     0   \n",
       "4924  NzRuDD0iYC0                                Oliver is an idiot!     0   \n",
       "5397  LTnl36-0-zU  I won't read this comment. What a Dick I am, I...     0   \n",
       "5551  c7ymY8QEB2g                                           Terrible     0   \n",
       "5773  08RHSZvixec      They got the worst brand of honey soy chips 😂     1   \n",
       "5920  GpAuCG6iUcA  Please let this die, you can tell the actors a...     0   \n",
       "5943  GpAuCG6iUcA                                     can't wait :'(     0   \n",
       "5959  GpAuCG6iUcA  Don't be bringing cucumbers to the theaters th...     0   \n",
       "6083  eRDxDEhEgNY  OMG...he's Stephen FUCKING Hawkings !!!!   (sa...     0   \n",
       "6263  xKXxJcf6_IE               Does Tommy knows that he's horrible?     0   \n",
       "6442  YQYslaA1Lus                                       Insane album     0   \n",
       "6592  brfJuyTADuQ                                     this is boring     0   \n",
       "7698  1Sm8A-u1vIA  The ripping of the evil Qur’aan and If I am no...     1   \n",
       "7742  JsTptu56GM8        Whoever did your makeup did a terrible job.     0   \n",
       "7978  tteLMfFDCb4  Her book should be titled, Damn I can't even b...     0   \n",
       "7979  tteLMfFDCb4  The like to dislike ratio to this video is jus...     0   \n",
       "8283  B_CHjYoqPUU  Is she into you? If you watch I video like thi...     0   \n",
       "8365  kCKTmL5Hn-M  Do you guys JUST hate it when people edit thei...     0   \n",
       "8435  N4Jb3gkrGXI                    she has the worst fashion sense     0   \n",
       "8570  0Yhaei1S5oQ  3:33 to 3:36 they would jerk around uncontroll...     0   \n",
       "9150  LpZqwLZP5Vs  Prayers to everyone who was affected by this t...     0   \n",
       "9225  LpZqwLZP5Vs  9/11 was a terrible day but it did bring all A...     1   \n",
       "9233  fCh5TVGaTSg       she's horrible, stop hiring for looks alone.    82   \n",
       "9241  fCh5TVGaTSg                                        She's awful    12   \n",
       "9277  fCh5TVGaTSg          Every *9/11* something horrific happens..     0   \n",
       "9535  -cYk6sbe11c  oh my god it's so crazy!!! dios protejenos  de...     0   \n",
       "9736  _NlKTMvnjIc                                        Pathetic...     0   \n",
       "9944  7Lyo5dCig-U                                        WHAT IDIOT!     0   \n",
       "\n",
       "     replies  polarity  \n",
       "512        0      -1.0  \n",
       "562        0      -1.0  \n",
       "952        0      -1.0  \n",
       "1371       0      -1.0  \n",
       "1391       0      -1.0  \n",
       "1932       0      -1.0  \n",
       "2043       0      -1.0  \n",
       "2088       1      -1.0  \n",
       "2192       0      -1.0  \n",
       "2410       0      -1.0  \n",
       "2482       0      -1.0  \n",
       "2728       0      -1.0  \n",
       "2733       0      -1.0  \n",
       "2750       0      -1.0  \n",
       "2817       0      -1.0  \n",
       "2886       0      -1.0  \n",
       "3086       0      -1.0  \n",
       "3092       1      -1.0  \n",
       "3222       0      -1.0  \n",
       "3371       0      -1.0  \n",
       "3514       0      -1.0  \n",
       "3529       0      -1.0  \n",
       "3561       0      -1.0  \n",
       "4006       1      -1.0  \n",
       "4094       0      -1.0  \n",
       "4481       0      -1.0  \n",
       "4699       0      -1.0  \n",
       "4924       0      -1.0  \n",
       "5397       0      -1.0  \n",
       "5551       0      -1.0  \n",
       "5773       0      -1.0  \n",
       "5920       0      -1.0  \n",
       "5943       0      -1.0  \n",
       "5959       0      -1.0  \n",
       "6083       0      -1.0  \n",
       "6263       0      -1.0  \n",
       "6442       0      -1.0  \n",
       "6592       0      -1.0  \n",
       "7698       0      -1.0  \n",
       "7742       0      -1.0  \n",
       "7978       0      -1.0  \n",
       "7979       0      -1.0  \n",
       "8283       0      -1.0  \n",
       "8365       0      -1.0  \n",
       "8435       0      -1.0  \n",
       "8570       0      -1.0  \n",
       "9150       0      -1.0  \n",
       "9225       2      -1.0  \n",
       "9233      22      -1.0  \n",
       "9241       2      -1.0  \n",
       "9277       0      -1.0  \n",
       "9535       0      -1.0  \n",
       "9736       0      -1.0  \n",
       "9944       0      -1.0  "
      ]
     },
     "execution_count": 14,
     "metadata": {},
     "output_type": "execute_result"
    }
   ],
   "source": [
    "df_negative=df[df['polarity']==-1]\n",
    "df_negative"
   ]
  },
  {
   "cell_type": "code",
   "execution_count": 15,
   "id": "25a5f4e2",
   "metadata": {},
   "outputs": [
    {
     "name": "stdout",
     "output_type": "stream",
     "text": [
      "Requirement already satisfied: wordcloud in c:\\users\\kate\\anaconda\\lib\\site-packages (1.8.1)\n",
      "Requirement already satisfied: matplotlib in c:\\users\\kate\\anaconda\\lib\\site-packages (from wordcloud) (3.3.4)\n",
      "Requirement already satisfied: numpy>=1.6.1 in c:\\users\\kate\\anaconda\\lib\\site-packages (from wordcloud) (1.20.1)\n",
      "Requirement already satisfied: pillow in c:\\users\\kate\\anaconda\\lib\\site-packages (from wordcloud) (8.2.0)\n",
      "Requirement already satisfied: python-dateutil>=2.1 in c:\\users\\kate\\anaconda\\lib\\site-packages (from matplotlib->wordcloud) (2.8.1)\n",
      "Requirement already satisfied: pyparsing!=2.0.4,!=2.1.2,!=2.1.6,>=2.0.3 in c:\\users\\kate\\anaconda\\lib\\site-packages (from matplotlib->wordcloud) (2.4.7)\n",
      "Requirement already satisfied: kiwisolver>=1.0.1 in c:\\users\\kate\\anaconda\\lib\\site-packages (from matplotlib->wordcloud) (1.3.1)\n",
      "Requirement already satisfied: cycler>=0.10 in c:\\users\\kate\\anaconda\\lib\\site-packages (from matplotlib->wordcloud) (0.10.0)\n",
      "Requirement already satisfied: six in c:\\users\\kate\\anaconda\\lib\\site-packages (from cycler>=0.10->matplotlib->wordcloud) (1.15.0)\n"
     ]
    }
   ],
   "source": [
    "# install wordcloud\n",
    "\n",
    "!pip install wordcloud\n",
    "from wordcloud import WordCloud, STOPWORDS"
   ]
  },
  {
   "cell_type": "code",
   "execution_count": 16,
   "id": "d0ff3e28",
   "metadata": {},
   "outputs": [
    {
     "data": {
      "text/plain": [
       "512     BEN CARSON IS THE MAN!!!!! THEY HATE HIM CAUSE...\n",
       "562     Well… The brain surgeon Ben Carson just proved...\n",
       "952            WHY DID YOU MAKE FURRY FORCE?! SO NASTY!!!\n",
       "1371                                       WTF BRUH!!!!!!\n",
       "1391                      cheeseus christ thats insane!!!\n",
       "1932            this is the worst thing i've heard. ever.\n",
       "2043    Economy is horrible in Cuba. It's going to be ...\n",
       "2088                        Sub to me if this is terrible\n",
       "2192                                             PATHETIC\n",
       "2410    I don't like this sportscaster  sounds very an...\n",
       "2482                               commentators are awful\n",
       "2728    This tv show became trump witch hunt tube... a...\n",
       "2733    Arpaio should be arrested again for horribly b...\n",
       "2750        This  show has become one-noted and pathetic.\n",
       "2817                                HARD CANDY!!!!!!!!!!!\n",
       "2886                  Tired of the philosophy add !!!!!!!\n",
       "3086                                               boring\n",
       "3092                    0:22   **laughs at terrible pun**\n",
       "3222    Why is media even covering this disgusting wom...\n",
       "3371                         How is this trending ? Awful\n",
       "3514    a horrible attempt to try and get us to freak out\n",
       "3529       this is one of the worst videos I've ever seen\n",
       "3561                    Whats with the horrible music? tf\n",
       "4006                                    She is the worst.\n",
       "4094                                               Boring\n",
       "4481                                               boring\n",
       "4699    Pls make star vs the forces of evil cookies or...\n",
       "4924                                  Oliver is an idiot!\n",
       "5397    I won't read this comment. What a Dick I am, I...\n",
       "5551                                             Terrible\n",
       "5773        They got the worst brand of honey soy chips 😂\n",
       "5920    Please let this die, you can tell the actors a...\n",
       "5943                                       can't wait :'(\n",
       "5959    Don't be bringing cucumbers to the theaters th...\n",
       "6083    OMG...he's Stephen FUCKING Hawkings !!!!   (sa...\n",
       "6263                 Does Tommy knows that he's horrible?\n",
       "6442                                         Insane album\n",
       "6592                                       this is boring\n",
       "7698    The ripping of the evil Qur’aan and If I am no...\n",
       "7742          Whoever did your makeup did a terrible job.\n",
       "7978    Her book should be titled, Damn I can't even b...\n",
       "7979    The like to dislike ratio to this video is jus...\n",
       "8283    Is she into you? If you watch I video like thi...\n",
       "8365    Do you guys JUST hate it when people edit thei...\n",
       "8435                      she has the worst fashion sense\n",
       "8570    3:33 to 3:36 they would jerk around uncontroll...\n",
       "9150    Prayers to everyone who was affected by this t...\n",
       "9225    9/11 was a terrible day but it did bring all A...\n",
       "9233         she's horrible, stop hiring for looks alone.\n",
       "9241                                          She's awful\n",
       "9277            Every *9/11* something horrific happens..\n",
       "9535    oh my god it's so crazy!!! dios protejenos  de...\n",
       "9736                                          Pathetic...\n",
       "9944                                          WHAT IDIOT!\n",
       "Name: comment_text, dtype: object"
      ]
     },
     "execution_count": 16,
     "metadata": {},
     "output_type": "execute_result"
    }
   ],
   "source": [
    "# the following returns series of dataframe df\n",
    "\n",
    "df_negative['comment_text']"
   ]
  },
  {
   "cell_type": "code",
   "execution_count": 17,
   "id": "050a64dd",
   "metadata": {},
   "outputs": [
    {
     "data": {
      "text/plain": [
       "\"BEN CARSON IS THE MAN!!!!! THEY HATE HIM CAUSE HE EXPOSED HITLARY'S RITUAL ABUSE ON CHILDREN!!!!!!! Well… The brain surgeon Ben Carson just proved how truly insane he is… WHY DID YOU MAKE FURRY FORCE?! SO NASTY!!! WTF BRUH!!!!!! cheeseus christ thats insane!!! this is the worst thing i've heard. ever. Economy is horrible in Cuba. It's going to be years before they get out of this. Sub to me if this is terrible PATHETIC I don't like this sportscaster  sounds very annoying commentators are awful This tv show became trump witch hunt tube... and frankly, boring. Arpaio should be arrested again for horribly butchering that song. This  show has become one-noted and pathetic. HARD CANDY!!!!!!!!!!! Tired of the philosophy add !!!!!!! boring 0:22   **laughs at terrible pun** Why is media even covering this disgusting woman anymore? How is this trending ? Awful a horrible attempt to try and get us to freak out this is one of the worst videos I've ever seen Whats with the horrible music? tf She is the worst. Boring boring Pls make star vs the forces of evil cookies or cake😛Pls... Oliver is an idiot! I won't read this comment. What a Dick I am, I can't believe I just read this. I am pathetic! Terrible They got the worst brand of honey soy chips 😂 Please let this die, you can tell the actors are miserable. can't wait :'( Don't be bringing cucumbers to the theaters this time!! You know who you are, ya nasty OMG...he's Stephen FUCKING Hawkings !!!!   (sarcasm: off) Does Tommy knows that he's horrible? Insane album this is boring The ripping of the evil Qur’aan and If I am no longer here, here is my advice\\\\nhttps://youtu.be/szZTiavY-6A\\\\nLike and RT Whoever did your makeup did a terrible job. Her book should be titled, Damn I can't even beat him?     I wish she would just fade into the background already. How miserable 😭 must life be to want to read this book. The like to dislike ratio to this video is just hysterical. Is she into you? If you watch I video like this, probably no.\\\\nWhat's the worst that could happen? Depends on the size of ya town. Do you guys JUST hate it when people edit their comment??!? she has the worst fashion sense 3:33 to 3:36 they would jerk around uncontrollably, making terrifying noises, then they would die. I was imagining cats masturbating to death. Prayers to everyone who was affected by this terrible event ❤🇺🇸🙏 9/11 was a terrible day but it did bring all Americans closer together she's horrible, stop hiring for looks alone. She's awful Every *9/11* something horrific happens.. oh my god it's so crazy!!! dios protejenos  de estos tornados . Pathetic... WHAT IDIOT!\""
      ]
     },
     "execution_count": 17,
     "metadata": {},
     "output_type": "execute_result"
    }
   ],
   "source": [
    "# join each and every row using the separator ' '\n",
    "# and reassign negative comments as a new variable\n",
    "\n",
    "neg_comments=' '.join(df_negative['comment_text'])\n",
    "neg_comments"
   ]
  },
  {
   "cell_type": "code",
   "execution_count": 18,
   "id": "24320719",
   "metadata": {},
   "outputs": [
    {
     "data": {
      "text/plain": [
       "(-0.5, 399.5, 199.5, -0.5)"
      ]
     },
     "execution_count": 18,
     "metadata": {},
     "output_type": "execute_result"
    },
    {
     "data": {
      "image/png": "[encoded data removed]",
      "text/plain": [
       "<Figure size 1080x360 with 1 Axes>"
      ]
     },
     "metadata": {
      "needs_background": "light"
     },
     "output_type": "display_data"
    }
   ],
   "source": [
    "#eliminate all the stopwords by doing WordCloud(stopwords=set(STOPWORDS))\n",
    "\n",
    "wordcloud1=WordCloud(stopwords=set(STOPWORDS)).generate(neg_comments)\n",
    "\n",
    "# set figure size\n",
    "plt.figure(figsize=(15,5))\n",
    "\n",
    "\n",
    "# showcase wordcloud\n",
    "plt.imshow(wordcloud1)\n",
    "\n",
    "\n",
    "#disable axis\n",
    "plt.axis('off')"
   ]
  },
  {
   "cell_type": "code",
   "execution_count": 19,
   "id": "6549f289",
   "metadata": {},
   "outputs": [
    {
     "data": {
      "text/plain": [
       "64                                        yu are the best\n",
       "156     Power is the disease.  Care is the cure.  Keep...\n",
       "227     YAS Can't wait to get it! I just need to sell ...\n",
       "307                                     This is priceless\n",
       "319                                   Summed up perfectly\n",
       "                              ...                        \n",
       "9841                           Great video and narration!\n",
       "9842                            This is really impressive\n",
       "9844    Placed an order yesterday. Will be patiently w...\n",
       "9889                      That would honestly be me, lol!\n",
       "9993    perfect opportunity for these metal detector d...\n",
       "Name: comment_text, Length: 246, dtype: object"
      ]
     },
     "execution_count": 19,
     "metadata": {},
     "output_type": "execute_result"
    }
   ],
   "source": [
    "df_positive['comment_text']"
   ]
  },
  {
   "cell_type": "code",
   "execution_count": 20,
   "id": "b39412a2",
   "metadata": {},
   "outputs": [
    {
     "data": {
      "text/plain": [
       "\"yu are the best Power is the disease.\\xa0 Care is the cure.\\xa0 Keep caring for yourself and others as best as you can.\\xa0 This is life. YAS Can't wait to get it! I just need to sell my kidney so I can afford iPhone X :D This is priceless Summed up perfectly This is awesome. 1:20 XDDDDDDDDD BEST MOVIE EVER!!! Power is the disease.\\xa0 Care is the cure.\\xa0 Keep caring for yourself and others as best as you can.\\xa0 This is life. The greatest movie about the greatest movie. It's Harry guys he's Spiderman best friend Best remake ever! Great review! awesome vlog Subscribe to me if Roman Atwood is the best youtuber I was attacked by a police dog once, \\\\n\\\\n\\\\n\\\\n\\\\n\\\\nthat was the best use of peanut butter ever. The best part of the movie was the credits DO THE ORIGINAL STEPHEN KING'S IT!!!!!!!!!!!!!! 🤣🤣🤣🤣😃😃😃😃 i downloaded and saw The Mummy 2017  in the best quality guys. here's the Iink https://twitter.com/akewdiudri/status/907980087676477442\\\\nyou must see too guys! that was awesome. Please say uncle touchy. Prease honest trailer man prease!!! Welcome to Wage Slavery! awesome! your a genius, makes me happy! jimmy did awesome throw 👏👏👏 Jennifer is the fucking best We have the winner! He's not a singer which is awesome. is the best M best on this planet awesome Power is the disease.\\xa0 Care is the cure.\\xa0 Keep caring for yourself and others as best as you can.\\xa0 This is life. WHY DO I KEEP FREAKING LAUGHING EACH TIME I WATCH IT AGAIN ! even though I know how it will end. omg the best 😂 LIKE = MEET CELEBRITY \\\\nSUBSCRIBE = BECOME A BILLIONAIRE\\\\nSCROLL UP/DOWN = DEATH FOR YOU AND EVERYONE YOU LOVE!!!!!!!!!!!!!!!!!!!!!!!!!!!!! the sonic air timer was perfect no 16 on trending impressive Omgd this is a good vídeo!!!!!! Every one let's help the best we can it's time to make a change!! Far-left journalists before Irma = Cuba has the best protocol to protect their citizens, they will have no casualties\\\\nAfter Irma = . . . . . . . . . . My best friend is Cuban 😥 10? More like fidget spinners!!!! What if her chonis came off ? Lol! Nobodys perfect Mitchie Mercury :D <3 That is awesome video Thank you for the good music!!! EAST TENNESSEE GIRLS LOVE KID ROCK!!!! Whooohooo!!!!!!  I LOVE 💏💖THIS SONG!!!!!! Afc west is afc best. Did someone notice the referee on the uper side of the field? 1:37 :D Greatest charger comeback in nfl history thumbs up if you agree GO Bolts if I could subscribe to Dude Perfect a million times I would You guys should make dude perfect sceets To be a dude perfect member it is so awesome .... Dude Perfect should do a collab with the slo mo guys the cody trust stort is excellent awesome I've been the best since I step in, take a hooker to the motherfucking Jetson Great entertainment! I'll be cheering for Joe Arpaio! Keep up the great work! hair awesome I love the 90s!!!! Love the Hair!!!! I just can't get over this look tlday, the outfit, the jewelry ,makeup!!!, hairrrr!!!! eeeeee all it's perfect This is the best elevator music I've listened to I never thought I'd say that but this is the best band of all time! Geniaal <3 2:42 Thom the bastard :D Awesome Electric plane :D Just be thankful she didnt win! One of the best vlog intros ever All to well is the best ts song Ugh so gorgeous!!!!! January Come Already!!!! Liam Neeson is the best!!! :D excellent trailer Soooo.... what your saying is....\\\\n\\\\n\\\\n\\\\n\\\\nwho is getting the iPhone X? :D I think this might be the best thing they could have ever done damn, they're so chill throughout the vid :D THESE GUYS ARE AWESOME FUCKIN PERFECT!!!!!!!!!!! ❤❤❤❤❤❤ Best omg finallyyyyyyyyyyyyyyyyyyyyy <3 The 1975 + Børns = LANY <3 Lol poop !!!! Girl! You're trending #25\\\\nAlso that Estee Lauder foundation looks great!. One of the best shade matches ever!! Yes on Trending!!!!! That's great Taylor! 💗💗 So happy you're trending!! 💕 5:14 😍 you're welcome! :D You don't need a foundation cus your face is hella flawless 😱😱😱 You don't even need foundation your skin is perfect ! You're so beautiful!! Your skin is flawless ❤️ Your skin looks flawless. Literally… I thought you already had the foundation on from the start! She doesnt even need foundation her skin is already perfect OMG your skin is flawless girlllll 👍👍❤❤ Your skin is FLAWLESS 😍 Your so beautiful ! 😻 you're soo beautiful! Your skin is FLAWLESS omg your skin is GORGEOUS!! Can John be my best friend? She's the best She's awesome. #iLoveGivers! :D Nile you are very good! Congratulations Nile! You and your family are the best!!! so good Nile, well done dude!! YESSSSSSSSS NILE THANKYOU FOR BEING SO INSPIRATIONAL !!!! Your family's awesome Congratulations Nile!  Phenomenal!!!!!!!!!! Awesome guy! Awesome family! Awesome performance! Your dad is awesome best dad EVER Beautiful! 👏👏❤️ Beautiful! Cracker Jack is popcorn coated in caramel and at the bottom of the bag there's a bunch of delicious candied peanuts if you aint gettin money then you aint got nothin for me yes GOD loving the beyonce inspired stuff!!! Looks divine and awesome as always! >< Sooooooooo preeeeeeetty! <3 this is so beautiful!!!! Looks amaaaazing! <3 Perfect timing, I've been looking for a gold theme dessert to make for a childhood cancer awareness event! Great channel too! How about a banoffee macaron? Great video Nick! I tried this and this is a awesome recipe Ro, You are the best baker ever I want to be a Baker/Chef when I grow up! Also can you do a cake that looks like the nerdy nummies words at the begining?  Thank you! Could I have 1000000000 Pieces of them Please :D Awesome recipies awesome cupcakes and pls make a sonic cake can you do something Beetlejuice themed? <3 Thats the best color! *YES IT IS TRENDING, SO PROUD OF HIM!!* One of the best rock stars In years...! He is no Lindsey Buckingham but it was good!! THIS IS BEAUTIFUL! THOSE VOCALS This cover is perfect ! damn <3 This is awesome SUPERB! INCREDIBLE! #Venezuela I can't stand this guy.. But damn that was impressive. Well Americans call it .......... The Perfect Storm Wish Irma and one more will kill Donald Trump !!!! The MUSIC is awesome! Reminds me of that movie, 'A Perfect Storm.' It's the perfect storm... This is going to be awesome. King of the Hill and Animaniacs are both supposed to be coming back...and South Park could be on its way up again. I'm experiencing 12-year-old giddiness. :D Awesome. They almost threw away the best joke: Cat-culator! Best episode! I lost it at MY CARDS!! THIS IS THE BEST You make me feel so happy,you inspire me,and if you ever doubt yourself don't you are perfect in every way and if you see a flaw all I see is flawlessness How can someone call kirstie a slut when she's that flawless (yes I know it's for the video) Slay so amazing!!!!! This title of this video is incredibly condescending. Way to go E! I love it! Go Fulop!!! Astaxanthin is one of the best antioxidants for the body. Best vids don't stop tony did awesome. 😄 Awesome  dude u're the man makes ererything become INCREDIBLE!!! Do you know how awesome you are, Pete? awesome videon man 👌👌👌 Awesome as ever Peter! Great help! Its so wierd how James still cant get away from the voice of Tommy, just listen to some of the sentences and words he use in this interview :D The Like to Dislike ratio for this video is one of the best I've ever seen. SØREN PILMARK !!!! Hey every Danish person watching, LOOK, IT'S SØREN PILMARK :D The best Kanye album in my opinion. This is awesome Man that album was awesome This was the best integration of a SquareSpace sponsored video ever!!!!! I love your channel!!!!! 😀😀👍🏻 Even the sponsers are so awesome Fucking awesome hehe😂😂 The Best! Awesome content as always The sausagefest that is your patreon account is always the best piece of comedy in your videos this is gonna be the best series on youtube But rosabell has the best tits I have ever seen It was honestly a breathtaking scene. So well done. Thank you to the actresses and crew Best Revenge Majestic. <3  :D He's on another level. He's fucking awesome. He's perfect! MARU the great contortionist!! LOL, I knew it! Be water, my friend... Maru is poetry in motion...slow motion. <3 <3 Omg!!! Maru your so adorable! I wish i could hug you!!! Sooo... when are you gonna do a giveaway with that Tissot on your wrist? :D One of the best explained drop tests out there You should use Xperia xz premium for slow-mo..best of best her voice is very attractive btw she's very attractive who is she??? what's her ig??? she is beautiful!!! ❤😭 PENTATONIXXXX <3 Awesome Awesome Awesome Sauce! 0:54 I see what you did there :D great video!  I have been wondering this for quite a while (but been too lasy to look it up ...) Best history channel on YouTube.  Well done, man. the roman rectangle at the end gave me goosebumps :D Awesome ! Who is now waiting for Raz Battles video ? one of the best videos I ever saw on youtube good job !!!! Best channel.\\\\n\\\\nXenophon ftw. The like to dislike ratio is perfect. IT WAS THE BEST SONG IN THE WORLD, IT WAS THE BEST SONG IN THE WUR-HUR-HURLD. Лучшая! ♥ \\\\nБузова, учись у неё. Как петь надо. I think it's just awesome.\\\\nHere a lots awesome design;https://goo.gl/Gg7HNh ELLIE <3 The best song in the world, it was the best song in the world Excellent. incredible as always !!! keep it up guys excellent eu amei muito <3 Best show of all time!!!! LOL @2:21 that pat was for the DOG!!!!! 10/10 best tutorial ever Delicious bean water CHEE so - a SEE tal - :D the greatest generation people... Who else knew Rene from Lilly's vlogs :D whoever thought of lilly : D michelle looks so freaking beautiful!!! Excellent LEAVE IT TO ALISHA TO MAKE THE BEST INTROS I swear Alisha's intros are literally the best YOOOOOO ALISHA UR INTRO IS OMG AMAZING!!!!!! Everlane has great tshirts! you are gorgeous without (and with) makeup !! <3 <3 love you!!!!! The best song! OMG THIS IS REALLY PERFECT. 😍 Great song! I like that Perfect song 👌 those brave men and women in the towers,pentagon, and flight 93 as well as the passengers on the planes will be remembered. may they rest in peace and Heaven with God.        Let's Roll! Dwight is the best person on the office Happy 9/11 everyone! PERU <3 Allahou Akbar, God is the greatest, the Wind is a soldier among God soldier Awesome job I WISH YOU GUYS ALL THE BEST 😞🇬🇧 this is all trumps fault, great job merica!!! Master Artisan who brings joy to us all! ^-^ So relaxing lol... Hope all is well after the hurricane! Great video and narration! This is really impressive Placed an order yesterday. Will be patiently waiting for some delicious hurricandy! That would honestly be me, lol! perfect opportunity for these metal detector dudes to do their thing without water in the way\""
      ]
     },
     "execution_count": 20,
     "metadata": {},
     "output_type": "execute_result"
    }
   ],
   "source": [
    "pos_comments=' '.join(df_positive['comment_text'])\n",
    "pos_comments"
   ]
  },
  {
   "cell_type": "code",
   "execution_count": 21,
   "id": "5b41f950",
   "metadata": {},
   "outputs": [
    {
     "data": {
      "text/plain": [
       "(-0.5, 399.5, 199.5, -0.5)"
      ]
     },
     "execution_count": 21,
     "metadata": {},
     "output_type": "execute_result"
    },
    {
     "data": {
      "image/png": "[encoded data removed]",
      "text/plain": [
       "<Figure size 1080x360 with 1 Axes>"
      ]
     },
     "metadata": {
      "needs_background": "light"
     },
     "output_type": "display_data"
    }
   ],
   "source": [
    "wordcloud2=WordCloud(stopwords=set(STOPWORDS)).generate(pos_comments)\n",
    "\n",
    "plt.figure (figsize=(15,5))\n",
    "plt.imshow (wordcloud2)\n",
    "plt.axis ('off')"
   ]
  },
  {
   "cell_type": "code",
   "execution_count": null,
   "id": "73879aa2",
   "metadata": {},
   "outputs": [],
   "source": []
  },
  {
   "cell_type": "markdown",
   "id": "e2b59cdf",
   "metadata": {},
   "source": [
    "Emoji Anlalysis"
   ]
  },
  {
   "cell_type": "code",
   "execution_count": null,
   "id": "18b46d7b",
   "metadata": {},
   "outputs": [],
   "source": []
  },
  {
   "cell_type": "code",
   "execution_count": 22,
   "id": "479fccc8",
   "metadata": {},
   "outputs": [
    {
     "name": "stdout",
     "output_type": "stream",
     "text": [
      "Requirement already satisfied: emoji in c:\\users\\kate\\anaconda\\lib\\site-packages (1.7.0)\n"
     ]
    }
   ],
   "source": [
    "! pip install emoji"
   ]
  },
  {
   "cell_type": "code",
   "execution_count": 23,
   "id": "095dccae",
   "metadata": {},
   "outputs": [
    {
     "data": {
      "text/html": [
       "<div>\n",
       "<style scoped>\n",
       "    .dataframe tbody tr th:only-of-type {\n",
       "        vertical-align: middle;\n",
       "    }\n",
       "\n",
       "    .dataframe tbody tr th {\n",
       "        vertical-align: top;\n",
       "    }\n",
       "\n",
       "    .dataframe thead th {\n",
       "        text-align: right;\n",
       "    }\n",
       "</style>\n",
       "<table border=\"1\" class=\"dataframe\">\n",
       "  <thead>\n",
       "    <tr style=\"text-align: right;\">\n",
       "      <th></th>\n",
       "      <th>video_id</th>\n",
       "      <th>comment_text</th>\n",
       "      <th>likes</th>\n",
       "      <th>replies</th>\n",
       "    </tr>\n",
       "  </thead>\n",
       "  <tbody>\n",
       "    <tr>\n",
       "      <th>0</th>\n",
       "      <td>XpVt6Z1Gjjo</td>\n",
       "      <td>Logan Paul it's yo big day ‼️‼️‼️</td>\n",
       "      <td>4</td>\n",
       "      <td>0</td>\n",
       "    </tr>\n",
       "    <tr>\n",
       "      <th>1</th>\n",
       "      <td>XpVt6Z1Gjjo</td>\n",
       "      <td>I've been following you from the start of your...</td>\n",
       "      <td>3</td>\n",
       "      <td>0</td>\n",
       "    </tr>\n",
       "    <tr>\n",
       "      <th>2</th>\n",
       "      <td>XpVt6Z1Gjjo</td>\n",
       "      <td>Say hi to Kong and maverick for me</td>\n",
       "      <td>3</td>\n",
       "      <td>0</td>\n",
       "    </tr>\n",
       "    <tr>\n",
       "      <th>3</th>\n",
       "      <td>XpVt6Z1Gjjo</td>\n",
       "      <td>MY FAN . attendance</td>\n",
       "      <td>3</td>\n",
       "      <td>0</td>\n",
       "    </tr>\n",
       "    <tr>\n",
       "      <th>4</th>\n",
       "      <td>XpVt6Z1Gjjo</td>\n",
       "      <td>trending 😉</td>\n",
       "      <td>3</td>\n",
       "      <td>0</td>\n",
       "    </tr>\n",
       "    <tr>\n",
       "      <th>5</th>\n",
       "      <td>XpVt6Z1Gjjo</td>\n",
       "      <td>#1 on trending AYYEEEEE</td>\n",
       "      <td>3</td>\n",
       "      <td>0</td>\n",
       "    </tr>\n",
       "    <tr>\n",
       "      <th>6</th>\n",
       "      <td>XpVt6Z1Gjjo</td>\n",
       "      <td>The end though 😭👍🏻❤️</td>\n",
       "      <td>4</td>\n",
       "      <td>0</td>\n",
       "    </tr>\n",
       "    <tr>\n",
       "      <th>7</th>\n",
       "      <td>XpVt6Z1Gjjo</td>\n",
       "      <td>#1 trending!!!!!!!!!</td>\n",
       "      <td>3</td>\n",
       "      <td>0</td>\n",
       "    </tr>\n",
       "    <tr>\n",
       "      <th>8</th>\n",
       "      <td>XpVt6Z1Gjjo</td>\n",
       "      <td>Happy one year vlogaversary</td>\n",
       "      <td>3</td>\n",
       "      <td>0</td>\n",
       "    </tr>\n",
       "    <tr>\n",
       "      <th>9</th>\n",
       "      <td>XpVt6Z1Gjjo</td>\n",
       "      <td>You and your shit brother may have single hand...</td>\n",
       "      <td>0</td>\n",
       "      <td>0</td>\n",
       "    </tr>\n",
       "  </tbody>\n",
       "</table>\n",
       "</div>"
      ],
      "text/plain": [
       "      video_id                                       comment_text likes  \\\n",
       "0  XpVt6Z1Gjjo                  Logan Paul it's yo big day ‼️‼️‼️     4   \n",
       "1  XpVt6Z1Gjjo  I've been following you from the start of your...     3   \n",
       "2  XpVt6Z1Gjjo                 Say hi to Kong and maverick for me     3   \n",
       "3  XpVt6Z1Gjjo                                MY FAN . attendance     3   \n",
       "4  XpVt6Z1Gjjo                                         trending 😉     3   \n",
       "5  XpVt6Z1Gjjo                            #1 on trending AYYEEEEE     3   \n",
       "6  XpVt6Z1Gjjo                               The end though 😭👍🏻❤️     4   \n",
       "7  XpVt6Z1Gjjo                               #1 trending!!!!!!!!!     3   \n",
       "8  XpVt6Z1Gjjo                        Happy one year vlogaversary     3   \n",
       "9  XpVt6Z1Gjjo  You and your shit brother may have single hand...     0   \n",
       "\n",
       "  replies  \n",
       "0       0  \n",
       "1       0  \n",
       "2       0  \n",
       "3       0  \n",
       "4       0  \n",
       "5       0  \n",
       "6       0  \n",
       "7       0  \n",
       "8       0  \n",
       "9       0  "
      ]
     },
     "execution_count": 23,
     "metadata": {},
     "output_type": "execute_result"
    }
   ],
   "source": [
    "import emoji\n",
    "youtubedata.head(10)"
   ]
  },
  {
   "cell_type": "code",
   "execution_count": 24,
   "id": "493d7639",
   "metadata": {},
   "outputs": [
    {
     "data": {
      "text/plain": [
       "b'\\xf0\\x9f\\x98\\x89'"
      ]
     },
     "execution_count": 24,
     "metadata": {},
     "output_type": "execute_result"
    }
   ],
   "source": [
    "x='😉'\n",
    "y=x.encode('utf-8')\n",
    "y"
   ]
  },
  {
   "cell_type": "code",
   "execution_count": 25,
   "id": "2ac35551",
   "metadata": {},
   "outputs": [
    {
     "name": "stdout",
     "output_type": "stream",
     "text": [
      "trending 😉\n"
     ]
    }
   ],
   "source": [
    "comment='trending 😉'\n",
    "print(comment)"
   ]
  },
  {
   "cell_type": "code",
   "execution_count": null,
   "id": "a796dcfe",
   "metadata": {},
   "outputs": [],
   "source": []
  },
  {
   "cell_type": "code",
   "execution_count": 26,
   "id": "d7c8872b",
   "metadata": {},
   "outputs": [
    {
     "name": "stderr",
     "output_type": "stream",
     "text": [
      "<ipython-input-26-4c43a14b042d>:3: DeprecationWarning: 'emoji.UNICODE_EMOJI_ENGLISH' is deprecated and will be removed in version 2.0.0. Use 'emoji.EMOJI_DATA' instead.\n",
      "To hide this warning, pin/downgrade the package to 'emoji~=1.6.3'\n",
      "  [c for c in comment if c in emoji.UNICODE_EMOJI_ENGLISH]\n"
     ]
    },
    {
     "data": {
      "text/plain": [
       "['😉']"
      ]
     },
     "execution_count": 26,
     "metadata": {},
     "output_type": "execute_result"
    }
   ],
   "source": [
    "# implementing code in list comprehension\n",
    "\n",
    "[c for c in comment if c in emoji.UNICODE_EMOJI_ENGLISH]"
   ]
  },
  {
   "cell_type": "code",
   "execution_count": 27,
   "id": "3794a09c",
   "metadata": {},
   "outputs": [
    {
     "name": "stderr",
     "output_type": "stream",
     "text": [
      "<ipython-input-27-7ba2ee709201>:4: DeprecationWarning: 'emoji.UNICODE_EMOJI_ENGLISH' is deprecated and will be removed in version 2.0.0. Use 'emoji.EMOJI_DATA' instead.\n",
      "To hide this warning, pin/downgrade the package to 'emoji~=1.6.3'\n",
      "  if char in emoji.UNICODE_EMOJI_ENGLISH:\n"
     ]
    }
   ],
   "source": [
    "emoji_list=[]\n",
    "for comment in df['comment_text']:\n",
    "    for char in comment:\n",
    "        if char in emoji.UNICODE_EMOJI_ENGLISH:\n",
    "            emoji_list.append(char)"
   ]
  },
  {
   "cell_type": "code",
   "execution_count": 28,
   "id": "214566ef",
   "metadata": {},
   "outputs": [
    {
     "data": {
      "text/plain": [
       "2863"
      ]
     },
     "execution_count": 28,
     "metadata": {},
     "output_type": "execute_result"
    }
   ],
   "source": [
    "len(emoji_list)"
   ]
  },
  {
   "cell_type": "code",
   "execution_count": 29,
   "id": "423f48c3",
   "metadata": {},
   "outputs": [
    {
     "data": {
      "text/plain": [
       "['‼', '‼', '‼', '😉', '😭', '👍', '🏻', '❤', '😍', '💋']"
      ]
     },
     "execution_count": 29,
     "metadata": {},
     "output_type": "execute_result"
    }
   ],
   "source": [
    "emoji_list[0:10]"
   ]
  },
  {
   "cell_type": "code",
   "execution_count": 30,
   "id": "06574f26",
   "metadata": {},
   "outputs": [
    {
     "data": {
      "text/plain": [
       "Counter({'‼': 8,\n",
       "         '😉': 9,\n",
       "         '😭': 52,\n",
       "         '👍': 56,\n",
       "         '🏻': 46,\n",
       "         '❤': 268,\n",
       "         '😍': 323,\n",
       "         '💋': 18,\n",
       "         '💙': 7,\n",
       "         '👈': 10,\n",
       "         '😂': 610,\n",
       "         '🔥': 68,\n",
       "         '👻': 1,\n",
       "         '💎': 1,\n",
       "         '😆': 25,\n",
       "         '😁': 26,\n",
       "         '😒': 3,\n",
       "         '👏': 47,\n",
       "         '😊': 68,\n",
       "         '👌': 41,\n",
       "         '🤔': 18,\n",
       "         '💔': 2,\n",
       "         '👎': 10,\n",
       "         '🍎': 2,\n",
       "         '😤': 2,\n",
       "         '😢': 19,\n",
       "         '👫': 4,\n",
       "         '💘': 5,\n",
       "         '😻': 17,\n",
       "         '💖': 54,\n",
       "         '🌟': 8,\n",
       "         '😮': 38,\n",
       "         '👇': 2,\n",
       "         '😳': 10,\n",
       "         '😠': 3,\n",
       "         '😴': 6,\n",
       "         '😝': 1,\n",
       "         '™': 1,\n",
       "         '☺': 10,\n",
       "         '😔': 4,\n",
       "         '😩': 21,\n",
       "         '😡': 1,\n",
       "         '🙏': 39,\n",
       "         '😄': 14,\n",
       "         '😬': 3,\n",
       "         '☹': 2,\n",
       "         '🤷': 2,\n",
       "         '🤣': 30,\n",
       "         '😃': 18,\n",
       "         '🏽': 11,\n",
       "         '🍏': 1,\n",
       "         '😓': 6,\n",
       "         '🤦': 3,\n",
       "         '♀': 2,\n",
       "         '😞': 14,\n",
       "         '🏼': 24,\n",
       "         '✌': 10,\n",
       "         '💀': 6,\n",
       "         '👀': 8,\n",
       "         '😱': 22,\n",
       "         '👑': 4,\n",
       "         '🌮': 6,\n",
       "         '😀': 16,\n",
       "         '💆': 1,\n",
       "         '🏿': 7,\n",
       "         '♂': 2,\n",
       "         '😅': 12,\n",
       "         '🐂': 1,\n",
       "         '💩': 6,\n",
       "         '💕': 51,\n",
       "         '💓': 17,\n",
       "         '💗': 11,\n",
       "         '💝': 4,\n",
       "         '💜': 19,\n",
       "         '😎': 18,\n",
       "         '🎉': 11,\n",
       "         '😋': 7,\n",
       "         '😘': 41,\n",
       "         '😐': 2,\n",
       "         '😕': 9,\n",
       "         '🤘': 4,\n",
       "         '🙌': 25,\n",
       "         '😏': 12,\n",
       "         '😛': 4,\n",
       "         '🌳': 1,\n",
       "         '🌽': 1,\n",
       "         '🎃': 1,\n",
       "         '🚣': 1,\n",
       "         '🚂': 1,\n",
       "         '😑': 5,\n",
       "         '✨': 6,\n",
       "         '👅': 2,\n",
       "         '💦': 15,\n",
       "         '🌴': 1,\n",
       "         '😫': 3,\n",
       "         '😥': 3,\n",
       "         '💪': 15,\n",
       "         '🙂': 4,\n",
       "         '🙈': 4,\n",
       "         '😲': 5,\n",
       "         '🤢': 4,\n",
       "         '🎧': 1,\n",
       "         '🎶': 5,\n",
       "         '🎵': 1,\n",
       "         '🎼': 2,\n",
       "         '🎤': 1,\n",
       "         '♨': 1,\n",
       "         '💯': 9,\n",
       "         '👊': 5,\n",
       "         '💏': 1,\n",
       "         '🙃': 3,\n",
       "         '🐸': 1,\n",
       "         '🏈': 1,\n",
       "         '💁': 6,\n",
       "         '🤡': 17,\n",
       "         '🙇': 1,\n",
       "         '👋': 2,\n",
       "         '💄': 2,\n",
       "         '🐐': 3,\n",
       "         '😇': 7,\n",
       "         '🐊': 1,\n",
       "         '🌎': 1,\n",
       "         '🖤': 6,\n",
       "         '🤗': 8,\n",
       "         '🙄': 16,\n",
       "         '😨': 3,\n",
       "         '😌': 1,\n",
       "         '🤑': 4,\n",
       "         '😗': 3,\n",
       "         '📱': 12,\n",
       "         '🌀': 3,\n",
       "         '🏾': 6,\n",
       "         '😶': 1,\n",
       "         '😖': 3,\n",
       "         '🙋': 2,\n",
       "         '🌹': 9,\n",
       "         '😵': 3,\n",
       "         '🌯': 3,\n",
       "         '😣': 1,\n",
       "         '💛': 14,\n",
       "         '💞': 15,\n",
       "         '😽': 1,\n",
       "         '♥': 19,\n",
       "         '😜': 6,\n",
       "         '🚩': 1,\n",
       "         '🆙': 1,\n",
       "         '🆒': 1,\n",
       "         '✔': 3,\n",
       "         '🙊': 2,\n",
       "         '😹': 2,\n",
       "         '🥀': 1,\n",
       "         '🍫': 1,\n",
       "         '👸': 6,\n",
       "         '😰': 1,\n",
       "         '💚': 5,\n",
       "         '🎊': 2,\n",
       "         '🎂': 1,\n",
       "         '🐈': 1,\n",
       "         '⌚': 1,\n",
       "         '👿': 14,\n",
       "         '💸': 6,\n",
       "         '💰': 2,\n",
       "         '🏀': 1,\n",
       "         '🎈': 3,\n",
       "         '🔪': 1,\n",
       "         '🚫': 1,\n",
       "         '🤠': 1,\n",
       "         '🖕': 6,\n",
       "         '👉': 1,\n",
       "         '✊': 1,\n",
       "         '🤴': 1,\n",
       "         '🐘': 1,\n",
       "         '❄': 1,\n",
       "         '🍦': 1,\n",
       "         '🅱': 2,\n",
       "         '😙': 7,\n",
       "         '💧': 1,\n",
       "         '❗': 1,\n",
       "         '😈': 2,\n",
       "         '🙁': 1,\n",
       "         '👽': 1,\n",
       "         '⚠': 2,\n",
       "         '👭': 1,\n",
       "         '🍓': 1,\n",
       "         '😯': 1,\n",
       "         '🎥': 1,\n",
       "         '☝': 2,\n",
       "         '❣': 1,\n",
       "         '🎀': 1,\n",
       "         '🍭': 1,\n",
       "         '💌': 6,\n",
       "         '🐼': 1,\n",
       "         '😚': 2,\n",
       "         '🌻': 1,\n",
       "         '🐇': 2,\n",
       "         '🐰': 2,\n",
       "         '🔸': 21,\n",
       "         '🚀': 6,\n",
       "         '🚔': 1,\n",
       "         '🚒': 1,\n",
       "         '🚑': 1,\n",
       "         '💃': 1,\n",
       "         '💟': 1,\n",
       "         '💨': 1,\n",
       "         '🎺': 1,\n",
       "         '👣': 1,\n",
       "         '👆': 1,\n",
       "         '👂': 2,\n",
       "         '👃': 1,\n",
       "         '🌭': 1,\n",
       "         '👐': 1})"
      ]
     },
     "execution_count": 30,
     "metadata": {},
     "output_type": "execute_result"
    }
   ],
   "source": [
    "# to generate a dictionary out of emoji_list, do the following:\n",
    "\n",
    "from collections import Counter\n",
    "Counter(emoji_list)"
   ]
  },
  {
   "cell_type": "code",
   "execution_count": 31,
   "id": "0b968e37",
   "metadata": {},
   "outputs": [
    {
     "data": {
      "text/plain": [
       "[('😂', 610),\n",
       " ('😍', 323),\n",
       " ('❤', 268),\n",
       " ('🔥', 68),\n",
       " ('😊', 68),\n",
       " ('👍', 56),\n",
       " ('💖', 54),\n",
       " ('😭', 52),\n",
       " ('💕', 51),\n",
       " ('👏', 47)]"
      ]
     },
     "execution_count": 31,
     "metadata": {},
     "output_type": "execute_result"
    }
   ],
   "source": [
    "# most common function\n",
    "\n",
    "Counter(emoji_list).most_common(10)"
   ]
  },
  {
   "cell_type": "code",
   "execution_count": 32,
   "id": "a3592a2e",
   "metadata": {},
   "outputs": [
    {
     "data": {
      "text/plain": [
       "('😂', 610)"
      ]
     },
     "execution_count": 32,
     "metadata": {},
     "output_type": "execute_result"
    }
   ],
   "source": [
    "# To extract the most common emoji, do the following\n",
    "\n",
    "Counter(emoji_list).most_common(10)[0]"
   ]
  },
  {
   "cell_type": "code",
   "execution_count": 33,
   "id": "4f1c11fa",
   "metadata": {},
   "outputs": [
    {
     "data": {
      "text/plain": [
       "'😂'"
      ]
     },
     "execution_count": 33,
     "metadata": {},
     "output_type": "execute_result"
    }
   ],
   "source": [
    "Counter(emoji_list).most_common(10)[0][0]"
   ]
  },
  {
   "cell_type": "code",
   "execution_count": 34,
   "id": "8598514c",
   "metadata": {},
   "outputs": [
    {
     "data": {
      "text/plain": [
       "'👏'"
      ]
     },
     "execution_count": 34,
     "metadata": {},
     "output_type": "execute_result"
    }
   ],
   "source": [
    "# 10th most common emoji, do the following\n",
    "\n",
    "Counter(emoji_list).most_common(10)[9][0]"
   ]
  },
  {
   "cell_type": "code",
   "execution_count": 35,
   "id": "ee6fb7dc",
   "metadata": {},
   "outputs": [
    {
     "data": {
      "text/plain": [
       "['😂', '😍', '❤', '🔥', '😊', '👍', '💖', '😭', '💕', '👏']"
      ]
     },
     "execution_count": 35,
     "metadata": {},
     "output_type": "execute_result"
    }
   ],
   "source": [
    "# Use list comprehension to find emojis for the top 10 emojis\n",
    "\n",
    "emojis=[Counter(emoji_list).most_common(10)[i][0] for i in range(10)]\n",
    "emojis"
   ]
  },
  {
   "cell_type": "code",
   "execution_count": 36,
   "id": "040c2697",
   "metadata": {},
   "outputs": [
    {
     "data": {
      "text/plain": [
       "610"
      ]
     },
     "execution_count": 36,
     "metadata": {},
     "output_type": "execute_result"
    }
   ],
   "source": [
    "# to extract frequencies of a specific emoji, in this case top 1 emoji's frequency...\n",
    "\n",
    "Counter(emoji_list).most_common(10)[0][1]"
   ]
  },
  {
   "cell_type": "code",
   "execution_count": 37,
   "id": "64877a0b",
   "metadata": {},
   "outputs": [
    {
     "data": {
      "text/plain": [
       "[610, 323, 268, 68, 68, 56, 54, 52, 51, 47]"
      ]
     },
     "execution_count": 37,
     "metadata": {},
     "output_type": "execute_result"
    }
   ],
   "source": [
    "# Use list comprehension to find frequencies for the top 10 emojis\n",
    "\n",
    "freq=[Counter(emoji_list).most_common(10)[i][1] for i in range(10)]\n",
    "freq"
   ]
  },
  {
   "cell_type": "code",
   "execution_count": 38,
   "id": "1f3d5b7e",
   "metadata": {},
   "outputs": [
    {
     "name": "stdout",
     "output_type": "stream",
     "text": [
      "Requirement already satisfied: plotly in c:\\users\\kate\\anaconda\\lib\\site-packages (5.8.0)\n",
      "Requirement already satisfied: tenacity>=6.2.0 in c:\\users\\kate\\anaconda\\lib\\site-packages (from plotly) (8.0.1)\n"
     ]
    }
   ],
   "source": [
    "# iplot is to showcase plotly visualization in jupyter notebook\n",
    "\n",
    "!pip install plotly"
   ]
  },
  {
   "cell_type": "code",
   "execution_count": 40,
   "id": "79969749",
   "metadata": {},
   "outputs": [],
   "source": [
    "import plotly.graph_objs as go\n",
    "\n",
    "from plotly.offline import iplot"
   ]
  },
  {
   "cell_type": "code",
   "execution_count": 48,
   "id": "330c77db",
   "metadata": {},
   "outputs": [
    {
     "data": {
      "application/vnd.plotly.v1+json": {
       "config": {
        "linkText": "Export to plot.ly",
        "plotlyServerURL": "https://plot.ly",
        "showLink": false
       },
       "data": [
        {
         "type": "bar",
         "x": [
          "😂",
          "😍",
          "❤",
          "🔥",
          "😊",
          "👍",
          "💖",
          "😭",
          "💕",
          "👏"
         ],
         "y": [
          610,
          323,
          268,
          68,
          68,
          56,
          54,
          52,
          51,
          47
         ]
        }
       ],
       "layout": {
        "template": {
         "data": {
          "bar": [
           {
            "error_x": {
             "color": "#2a3f5f"
            },
            "error_y": {
             "color": "#2a3f5f"
            },
            "marker": {
             "line": {
              "color": "#E5ECF6",
              "width": 0.5
             },
             "pattern": {
              "fillmode": "overlay",
              "size": 10,
              "solidity": 0.2
             }
            },
            "type": "bar"
           }
          ],
          "barpolar": [
           {
            "marker": {
             "line": {
              "color": "#E5ECF6",
              "width": 0.5
             },
             "pattern": {
              "fillmode": "overlay",
              "size": 10,
              "solidity": 0.2
             }
            },
            "type": "barpolar"
           }
          ],
          "carpet": [
           {
            "aaxis": {
             "endlinecolor": "#2a3f5f",
             "gridcolor": "white",
             "linecolor": "white",
             "minorgridcolor": "white",
             "startlinecolor": "#2a3f5f"
            },
            "baxis": {
             "endlinecolor": "#2a3f5f",
             "gridcolor": "white",
             "linecolor": "white",
             "minorgridcolor": "white",
             "startlinecolor": "#2a3f5f"
            },
            "type": "carpet"
           }
          ],
          "choropleth": [
           {
            "colorbar": {
             "outlinewidth": 0,
             "ticks": ""
            },
            "type": "choropleth"
           }
          ],
          "contour": [
           {
            "colorbar": {
             "outlinewidth": 0,
             "ticks": ""
            },
            "colorscale": [
             [
              0,
              "#0d0887"
             ],
             [
              0.1111111111111111,
              "#46039f"
             ],
             [
              0.2222222222222222,
              "#7201a8"
             ],
             [
              0.3333333333333333,
              "#9c179e"
             ],
             [
              0.4444444444444444,
              "#bd3786"
             ],
             [
              0.5555555555555556,
              "#d8576b"
             ],
             [
              0.6666666666666666,
              "#ed7953"
             ],
             [
              0.7777777777777778,
              "#fb9f3a"
             ],
             [
              0.8888888888888888,
              "#fdca26"
             ],
             [
              1,
              "#f0f921"
             ]
            ],
            "type": "contour"
           }
          ],
          "contourcarpet": [
           {
            "colorbar": {
             "outlinewidth": 0,
             "ticks": ""
            },
            "type": "contourcarpet"
           }
          ],
          "heatmap": [
           {
            "colorbar": {
             "outlinewidth": 0,
             "ticks": ""
            },
            "colorscale": [
             [
              0,
              "#0d0887"
             ],
             [
              0.1111111111111111,
              "#46039f"
             ],
             [
              0.2222222222222222,
              "#7201a8"
             ],
             [
              0.3333333333333333,
              "#9c179e"
             ],
             [
              0.4444444444444444,
              "#bd3786"
             ],
             [
              0.5555555555555556,
              "#d8576b"
             ],
             [
              0.6666666666666666,
              "#ed7953"
             ],
             [
              0.7777777777777778,
              "#fb9f3a"
             ],
             [
              0.8888888888888888,
              "#fdca26"
             ],
             [
              1,
              "#f0f921"
             ]
            ],
            "type": "heatmap"
           }
          ],
          "heatmapgl": [
           {
            "colorbar": {
             "outlinewidth": 0,
             "ticks": ""
            },
            "colorscale": [
             [
              0,
              "#0d0887"
             ],
             [
              0.1111111111111111,
              "#46039f"
             ],
             [
              0.2222222222222222,
              "#7201a8"
             ],
             [
              0.3333333333333333,
              "#9c179e"
             ],
             [
              0.4444444444444444,
              "#bd3786"
             ],
             [
              0.5555555555555556,
              "#d8576b"
             ],
             [
              0.6666666666666666,
              "#ed7953"
             ],
             [
              0.7777777777777778,
              "#fb9f3a"
             ],
             [
              0.8888888888888888,
              "#fdca26"
             ],
             [
              1,
              "#f0f921"
             ]
            ],
            "type": "heatmapgl"
           }
          ],
          "histogram": [
           {
            "marker": {
             "pattern": {
              "fillmode": "overlay",
              "size": 10,
              "solidity": 0.2
             }
            },
            "type": "histogram"
           }
          ],
          "histogram2d": [
           {
            "colorbar": {
             "outlinewidth": 0,
             "ticks": ""
            },
            "colorscale": [
             [
              0,
              "#0d0887"
             ],
             [
              0.1111111111111111,
              "#46039f"
             ],
             [
              0.2222222222222222,
              "#7201a8"
             ],
             [
              0.3333333333333333,
              "#9c179e"
             ],
             [
              0.4444444444444444,
              "#bd3786"
             ],
             [
              0.5555555555555556,
              "#d8576b"
             ],
             [
              0.6666666666666666,
              "#ed7953"
             ],
             [
              0.7777777777777778,
              "#fb9f3a"
             ],
             [
              0.8888888888888888,
              "#fdca26"
             ],
             [
              1,
              "#f0f921"
             ]
            ],
            "type": "histogram2d"
           }
          ],
          "histogram2dcontour": [
           {
            "colorbar": {
             "outlinewidth": 0,
             "ticks": ""
            },
            "colorscale": [
             [
              0,
              "#0d0887"
             ],
             [
              0.1111111111111111,
              "#46039f"
             ],
             [
              0.2222222222222222,
              "#7201a8"
             ],
             [
              0.3333333333333333,
              "#9c179e"
             ],
             [
              0.4444444444444444,
              "#bd3786"
             ],
             [
              0.5555555555555556,
              "#d8576b"
             ],
             [
              0.6666666666666666,
              "#ed7953"
             ],
             [
              0.7777777777777778,
              "#fb9f3a"
             ],
             [
              0.8888888888888888,
              "#fdca26"
             ],
             [
              1,
              "#f0f921"
             ]
            ],
            "type": "histogram2dcontour"
           }
          ],
          "mesh3d": [
           {
            "colorbar": {
             "outlinewidth": 0,
             "ticks": ""
            },
            "type": "mesh3d"
           }
          ],
          "parcoords": [
           {
            "line": {
             "colorbar": {
              "outlinewidth": 0,
              "ticks": ""
             }
            },
            "type": "parcoords"
           }
          ],
          "pie": [
           {
            "automargin": true,
            "type": "pie"
           }
          ],
          "scatter": [
           {
            "fillpattern": {
             "fillmode": "overlay",
             "size": 10,
             "solidity": 0.2
            },
            "type": "scatter"
           }
          ],
          "scatter3d": [
           {
            "line": {
             "colorbar": {
              "outlinewidth": 0,
              "ticks": ""
             }
            },
            "marker": {
             "colorbar": {
              "outlinewidth": 0,
              "ticks": ""
             }
            },
            "type": "scatter3d"
           }
          ],
          "scattercarpet": [
           {
            "marker": {
             "colorbar": {
              "outlinewidth": 0,
              "ticks": ""
             }
            },
            "type": "scattercarpet"
           }
          ],
          "scattergeo": [
           {
            "marker": {
             "colorbar": {
              "outlinewidth": 0,
              "ticks": ""
             }
            },
            "type": "scattergeo"
           }
          ],
          "scattergl": [
           {
            "marker": {
             "colorbar": {
              "outlinewidth": 0,
              "ticks": ""
             }
            },
            "type": "scattergl"
           }
          ],
          "scattermapbox": [
           {
            "marker": {
             "colorbar": {
              "outlinewidth": 0,
              "ticks": ""
             }
            },
            "type": "scattermapbox"
           }
          ],
          "scatterpolar": [
           {
            "marker": {
             "colorbar": {
              "outlinewidth": 0,
              "ticks": ""
             }
            },
            "type": "scatterpolar"
           }
          ],
          "scatterpolargl": [
           {
            "marker": {
             "colorbar": {
              "outlinewidth": 0,
              "ticks": ""
             }
            },
            "type": "scatterpolargl"
           }
          ],
          "scatterternary": [
           {
            "marker": {
             "colorbar": {
              "outlinewidth": 0,
              "ticks": ""
             }
            },
            "type": "scatterternary"
           }
          ],
          "surface": [
           {
            "colorbar": {
             "outlinewidth": 0,
             "ticks": ""
            },
            "colorscale": [
             [
              0,
              "#0d0887"
             ],
             [
              0.1111111111111111,
              "#46039f"
             ],
             [
              0.2222222222222222,
              "#7201a8"
             ],
             [
              0.3333333333333333,
              "#9c179e"
             ],
             [
              0.4444444444444444,
              "#bd3786"
             ],
             [
              0.5555555555555556,
              "#d8576b"
             ],
             [
              0.6666666666666666,
              "#ed7953"
             ],
             [
              0.7777777777777778,
              "#fb9f3a"
             ],
             [
              0.8888888888888888,
              "#fdca26"
             ],
             [
              1,
              "#f0f921"
             ]
            ],
            "type": "surface"
           }
          ],
          "table": [
           {
            "cells": {
             "fill": {
              "color": "#EBF0F8"
             },
             "line": {
              "color": "white"
             }
            },
            "header": {
             "fill": {
              "color": "#C8D4E3"
             },
             "line": {
              "color": "white"
             }
            },
            "type": "table"
           }
          ]
         },
         "layout": {
          "annotationdefaults": {
           "arrowcolor": "#2a3f5f",
           "arrowhead": 0,
           "arrowwidth": 1
          },
          "autotypenumbers": "strict",
          "coloraxis": {
           "colorbar": {
            "outlinewidth": 0,
            "ticks": ""
           }
          },
          "colorscale": {
           "diverging": [
            [
             0,
             "#8e0152"
            ],
            [
             0.1,
             "#c51b7d"
            ],
            [
             0.2,
             "#de77ae"
            ],
            [
             0.3,
             "#f1b6da"
            ],
            [
             0.4,
             "#fde0ef"
            ],
            [
             0.5,
             "#f7f7f7"
            ],
            [
             0.6,
             "#e6f5d0"
            ],
            [
             0.7,
             "#b8e186"
            ],
            [
             0.8,
             "#7fbc41"
            ],
            [
             0.9,
             "#4d9221"
            ],
            [
             1,
             "#276419"
            ]
           ],
           "sequential": [
            [
             0,
             "#0d0887"
            ],
            [
             0.1111111111111111,
             "#46039f"
            ],
            [
             0.2222222222222222,
             "#7201a8"
            ],
            [
             0.3333333333333333,
             "#9c179e"
            ],
            [
             0.4444444444444444,
             "#bd3786"
            ],
            [
             0.5555555555555556,
             "#d8576b"
            ],
            [
             0.6666666666666666,
             "#ed7953"
            ],
            [
             0.7777777777777778,
             "#fb9f3a"
            ],
            [
             0.8888888888888888,
             "#fdca26"
            ],
            [
             1,
             "#f0f921"
            ]
           ],
           "sequentialminus": [
            [
             0,
             "#0d0887"
            ],
            [
             0.1111111111111111,
             "#46039f"
            ],
            [
             0.2222222222222222,
             "#7201a8"
            ],
            [
             0.3333333333333333,
             "#9c179e"
            ],
            [
             0.4444444444444444,
             "#bd3786"
            ],
            [
             0.5555555555555556,
             "#d8576b"
            ],
            [
             0.6666666666666666,
             "#ed7953"
            ],
            [
             0.7777777777777778,
             "#fb9f3a"
            ],
            [
             0.8888888888888888,
             "#fdca26"
            ],
            [
             1,
             "#f0f921"
            ]
           ]
          },
          "colorway": [
           "#636efa",
           "#EF553B",
           "#00cc96",
           "#ab63fa",
           "#FFA15A",
           "#19d3f3",
           "#FF6692",
           "#B6E880",
           "#FF97FF",
           "#FECB52"
          ],
          "font": {
           "color": "#2a3f5f"
          },
          "geo": {
           "bgcolor": "white",
           "lakecolor": "white",
           "landcolor": "#E5ECF6",
           "showlakes": true,
           "showland": true,
           "subunitcolor": "white"
          },
          "hoverlabel": {
           "align": "left"
          },
          "hovermode": "closest",
          "mapbox": {
           "style": "light"
          },
          "paper_bgcolor": "white",
          "plot_bgcolor": "#E5ECF6",
          "polar": {
           "angularaxis": {
            "gridcolor": "white",
            "linecolor": "white",
            "ticks": ""
           },
           "bgcolor": "#E5ECF6",
           "radialaxis": {
            "gridcolor": "white",
            "linecolor": "white",
            "ticks": ""
           }
          },
          "scene": {
           "xaxis": {
            "backgroundcolor": "#E5ECF6",
            "gridcolor": "white",
            "gridwidth": 2,
            "linecolor": "white",
            "showbackground": true,
            "ticks": "",
            "zerolinecolor": "white"
           },
           "yaxis": {
            "backgroundcolor": "#E5ECF6",
            "gridcolor": "white",
            "gridwidth": 2,
            "linecolor": "white",
            "showbackground": true,
            "ticks": "",
            "zerolinecolor": "white"
           },
           "zaxis": {
            "backgroundcolor": "#E5ECF6",
            "gridcolor": "white",
            "gridwidth": 2,
            "linecolor": "white",
            "showbackground": true,
            "ticks": "",
            "zerolinecolor": "white"
           }
          },
          "shapedefaults": {
           "line": {
            "color": "#2a3f5f"
           }
          },
          "ternary": {
           "aaxis": {
            "gridcolor": "white",
            "linecolor": "white",
            "ticks": ""
           },
           "baxis": {
            "gridcolor": "white",
            "linecolor": "white",
            "ticks": ""
           },
           "bgcolor": "#E5ECF6",
           "caxis": {
            "gridcolor": "white",
            "linecolor": "white",
            "ticks": ""
           }
          },
          "title": {
           "x": 0.05
          },
          "xaxis": {
           "automargin": true,
           "gridcolor": "white",
           "linecolor": "white",
           "ticks": "",
           "title": {
            "standoff": 15
           },
           "zerolinecolor": "white",
           "zerolinewidth": 2
          },
          "yaxis": {
           "automargin": true,
           "gridcolor": "white",
           "linecolor": "white",
           "ticks": "",
           "title": {
            "standoff": 15
           },
           "zerolinecolor": "white",
           "zerolinewidth": 2
          }
         }
        }
       }
      },
      "text/html": [
       "<div>                            <div id=\"b963fa0e-8e51-430e-9306-1afa3d55f4ec\" class=\"plotly-graph-div\" style=\"height:525px; width:100%;\"></div>            <script type=\"text/javascript\">                require([\"plotly\"], function(Plotly) {                    window.PLOTLYENV=window.PLOTLYENV || {};                                    if (document.getElementById(\"b963fa0e-8e51-430e-9306-1afa3d55f4ec\")) {                    Plotly.newPlot(                        \"b963fa0e-8e51-430e-9306-1afa3d55f4ec\",                        [{\"x\":[\"\\ud83d\\ude02\",\"\\ud83d\\ude0d\",\"\\u2764\",\"\\ud83d\\udd25\",\"\\ud83d\\ude0a\",\"\\ud83d\\udc4d\",\"\\ud83d\\udc96\",\"\\ud83d\\ude2d\",\"\\ud83d\\udc95\",\"\\ud83d\\udc4f\"],\"y\":[610,323,268,68,68,56,54,52,51,47],\"type\":\"bar\"}],                        {\"template\":{\"data\":{\"barpolar\":[{\"marker\":{\"line\":{\"color\":\"#E5ECF6\",\"width\":0.5},\"pattern\":{\"fillmode\":\"overlay\",\"size\":10,\"solidity\":0.2}},\"type\":\"barpolar\"}],\"bar\":[{\"error_x\":{\"color\":\"#2a3f5f\"},\"error_y\":{\"color\":\"#2a3f5f\"},\"marker\":{\"line\":{\"color\":\"#E5ECF6\",\"width\":0.5},\"pattern\":{\"fillmode\":\"overlay\",\"size\":10,\"solidity\":0.2}},\"type\":\"bar\"}],\"carpet\":[{\"aaxis\":{\"endlinecolor\":\"#2a3f5f\",\"gridcolor\":\"white\",\"linecolor\":\"white\",\"minorgridcolor\":\"white\",\"startlinecolor\":\"#2a3f5f\"},\"baxis\":{\"endlinecolor\":\"#2a3f5f\",\"gridcolor\":\"white\",\"linecolor\":\"white\",\"minorgridcolor\":\"white\",\"startlinecolor\":\"#2a3f5f\"},\"type\":\"carpet\"}],\"choropleth\":[{\"colorbar\":{\"outlinewidth\":0,\"ticks\":\"\"},\"type\":\"choropleth\"}],\"contourcarpet\":[{\"colorbar\":{\"outlinewidth\":0,\"ticks\":\"\"},\"type\":\"contourcarpet\"}],\"contour\":[{\"colorbar\":{\"outlinewidth\":0,\"ticks\":\"\"},\"colorscale\":[[0.0,\"#0d0887\"],[0.1111111111111111,\"#46039f\"],[0.2222222222222222,\"#7201a8\"],[0.3333333333333333,\"#9c179e\"],[0.4444444444444444,\"#bd3786\"],[0.5555555555555556,\"#d8576b\"],[0.6666666666666666,\"#ed7953\"],[0.7777777777777778,\"#fb9f3a\"],[0.8888888888888888,\"#fdca26\"],[1.0,\"#f0f921\"]],\"type\":\"contour\"}],\"heatmapgl\":[{\"colorbar\":{\"outlinewidth\":0,\"ticks\":\"\"},\"colorscale\":[[0.0,\"#0d0887\"],[0.1111111111111111,\"#46039f\"],[0.2222222222222222,\"#7201a8\"],[0.3333333333333333,\"#9c179e\"],[0.4444444444444444,\"#bd3786\"],[0.5555555555555556,\"#d8576b\"],[0.6666666666666666,\"#ed7953\"],[0.7777777777777778,\"#fb9f3a\"],[0.8888888888888888,\"#fdca26\"],[1.0,\"#f0f921\"]],\"type\":\"heatmapgl\"}],\"heatmap\":[{\"colorbar\":{\"outlinewidth\":0,\"ticks\":\"\"},\"colorscale\":[[0.0,\"#0d0887\"],[0.1111111111111111,\"#46039f\"],[0.2222222222222222,\"#7201a8\"],[0.3333333333333333,\"#9c179e\"],[0.4444444444444444,\"#bd3786\"],[0.5555555555555556,\"#d8576b\"],[0.6666666666666666,\"#ed7953\"],[0.7777777777777778,\"#fb9f3a\"],[0.8888888888888888,\"#fdca26\"],[1.0,\"#f0f921\"]],\"type\":\"heatmap\"}],\"histogram2dcontour\":[{\"colorbar\":{\"outlinewidth\":0,\"ticks\":\"\"},\"colorscale\":[[0.0,\"#0d0887\"],[0.1111111111111111,\"#46039f\"],[0.2222222222222222,\"#7201a8\"],[0.3333333333333333,\"#9c179e\"],[0.4444444444444444,\"#bd3786\"],[0.5555555555555556,\"#d8576b\"],[0.6666666666666666,\"#ed7953\"],[0.7777777777777778,\"#fb9f3a\"],[0.8888888888888888,\"#fdca26\"],[1.0,\"#f0f921\"]],\"type\":\"histogram2dcontour\"}],\"histogram2d\":[{\"colorbar\":{\"outlinewidth\":0,\"ticks\":\"\"},\"colorscale\":[[0.0,\"#0d0887\"],[0.1111111111111111,\"#46039f\"],[0.2222222222222222,\"#7201a8\"],[0.3333333333333333,\"#9c179e\"],[0.4444444444444444,\"#bd3786\"],[0.5555555555555556,\"#d8576b\"],[0.6666666666666666,\"#ed7953\"],[0.7777777777777778,\"#fb9f3a\"],[0.8888888888888888,\"#fdca26\"],[1.0,\"#f0f921\"]],\"type\":\"histogram2d\"}],\"histogram\":[{\"marker\":{\"pattern\":{\"fillmode\":\"overlay\",\"size\":10,\"solidity\":0.2}},\"type\":\"histogram\"}],\"mesh3d\":[{\"colorbar\":{\"outlinewidth\":0,\"ticks\":\"\"},\"type\":\"mesh3d\"}],\"parcoords\":[{\"line\":{\"colorbar\":{\"outlinewidth\":0,\"ticks\":\"\"}},\"type\":\"parcoords\"}],\"pie\":[{\"automargin\":true,\"type\":\"pie\"}],\"scatter3d\":[{\"line\":{\"colorbar\":{\"outlinewidth\":0,\"ticks\":\"\"}},\"marker\":{\"colorbar\":{\"outlinewidth\":0,\"ticks\":\"\"}},\"type\":\"scatter3d\"}],\"scattercarpet\":[{\"marker\":{\"colorbar\":{\"outlinewidth\":0,\"ticks\":\"\"}},\"type\":\"scattercarpet\"}],\"scattergeo\":[{\"marker\":{\"colorbar\":{\"outlinewidth\":0,\"ticks\":\"\"}},\"type\":\"scattergeo\"}],\"scattergl\":[{\"marker\":{\"colorbar\":{\"outlinewidth\":0,\"ticks\":\"\"}},\"type\":\"scattergl\"}],\"scattermapbox\":[{\"marker\":{\"colorbar\":{\"outlinewidth\":0,\"ticks\":\"\"}},\"type\":\"scattermapbox\"}],\"scatterpolargl\":[{\"marker\":{\"colorbar\":{\"outlinewidth\":0,\"ticks\":\"\"}},\"type\":\"scatterpolargl\"}],\"scatterpolar\":[{\"marker\":{\"colorbar\":{\"outlinewidth\":0,\"ticks\":\"\"}},\"type\":\"scatterpolar\"}],\"scatter\":[{\"fillpattern\":{\"fillmode\":\"overlay\",\"size\":10,\"solidity\":0.2},\"type\":\"scatter\"}],\"scatterternary\":[{\"marker\":{\"colorbar\":{\"outlinewidth\":0,\"ticks\":\"\"}},\"type\":\"scatterternary\"}],\"surface\":[{\"colorbar\":{\"outlinewidth\":0,\"ticks\":\"\"},\"colorscale\":[[0.0,\"#0d0887\"],[0.1111111111111111,\"#46039f\"],[0.2222222222222222,\"#7201a8\"],[0.3333333333333333,\"#9c179e\"],[0.4444444444444444,\"#bd3786\"],[0.5555555555555556,\"#d8576b\"],[0.6666666666666666,\"#ed7953\"],[0.7777777777777778,\"#fb9f3a\"],[0.8888888888888888,\"#fdca26\"],[1.0,\"#f0f921\"]],\"type\":\"surface\"}],\"table\":[{\"cells\":{\"fill\":{\"color\":\"#EBF0F8\"},\"line\":{\"color\":\"white\"}},\"header\":{\"fill\":{\"color\":\"#C8D4E3\"},\"line\":{\"color\":\"white\"}},\"type\":\"table\"}]},\"layout\":{\"annotationdefaults\":{\"arrowcolor\":\"#2a3f5f\",\"arrowhead\":0,\"arrowwidth\":1},\"autotypenumbers\":\"strict\",\"coloraxis\":{\"colorbar\":{\"outlinewidth\":0,\"ticks\":\"\"}},\"colorscale\":{\"diverging\":[[0,\"#8e0152\"],[0.1,\"#c51b7d\"],[0.2,\"#de77ae\"],[0.3,\"#f1b6da\"],[0.4,\"#fde0ef\"],[0.5,\"#f7f7f7\"],[0.6,\"#e6f5d0\"],[0.7,\"#b8e186\"],[0.8,\"#7fbc41\"],[0.9,\"#4d9221\"],[1,\"#276419\"]],\"sequential\":[[0.0,\"#0d0887\"],[0.1111111111111111,\"#46039f\"],[0.2222222222222222,\"#7201a8\"],[0.3333333333333333,\"#9c179e\"],[0.4444444444444444,\"#bd3786\"],[0.5555555555555556,\"#d8576b\"],[0.6666666666666666,\"#ed7953\"],[0.7777777777777778,\"#fb9f3a\"],[0.8888888888888888,\"#fdca26\"],[1.0,\"#f0f921\"]],\"sequentialminus\":[[0.0,\"#0d0887\"],[0.1111111111111111,\"#46039f\"],[0.2222222222222222,\"#7201a8\"],[0.3333333333333333,\"#9c179e\"],[0.4444444444444444,\"#bd3786\"],[0.5555555555555556,\"#d8576b\"],[0.6666666666666666,\"#ed7953\"],[0.7777777777777778,\"#fb9f3a\"],[0.8888888888888888,\"#fdca26\"],[1.0,\"#f0f921\"]]},\"colorway\":[\"#636efa\",\"#EF553B\",\"#00cc96\",\"#ab63fa\",\"#FFA15A\",\"#19d3f3\",\"#FF6692\",\"#B6E880\",\"#FF97FF\",\"#FECB52\"],\"font\":{\"color\":\"#2a3f5f\"},\"geo\":{\"bgcolor\":\"white\",\"lakecolor\":\"white\",\"landcolor\":\"#E5ECF6\",\"showlakes\":true,\"showland\":true,\"subunitcolor\":\"white\"},\"hoverlabel\":{\"align\":\"left\"},\"hovermode\":\"closest\",\"mapbox\":{\"style\":\"light\"},\"paper_bgcolor\":\"white\",\"plot_bgcolor\":\"#E5ECF6\",\"polar\":{\"angularaxis\":{\"gridcolor\":\"white\",\"linecolor\":\"white\",\"ticks\":\"\"},\"bgcolor\":\"#E5ECF6\",\"radialaxis\":{\"gridcolor\":\"white\",\"linecolor\":\"white\",\"ticks\":\"\"}},\"scene\":{\"xaxis\":{\"backgroundcolor\":\"#E5ECF6\",\"gridcolor\":\"white\",\"gridwidth\":2,\"linecolor\":\"white\",\"showbackground\":true,\"ticks\":\"\",\"zerolinecolor\":\"white\"},\"yaxis\":{\"backgroundcolor\":\"#E5ECF6\",\"gridcolor\":\"white\",\"gridwidth\":2,\"linecolor\":\"white\",\"showbackground\":true,\"ticks\":\"\",\"zerolinecolor\":\"white\"},\"zaxis\":{\"backgroundcolor\":\"#E5ECF6\",\"gridcolor\":\"white\",\"gridwidth\":2,\"linecolor\":\"white\",\"showbackground\":true,\"ticks\":\"\",\"zerolinecolor\":\"white\"}},\"shapedefaults\":{\"line\":{\"color\":\"#2a3f5f\"}},\"ternary\":{\"aaxis\":{\"gridcolor\":\"white\",\"linecolor\":\"white\",\"ticks\":\"\"},\"baxis\":{\"gridcolor\":\"white\",\"linecolor\":\"white\",\"ticks\":\"\"},\"bgcolor\":\"#E5ECF6\",\"caxis\":{\"gridcolor\":\"white\",\"linecolor\":\"white\",\"ticks\":\"\"}},\"title\":{\"x\":0.05},\"xaxis\":{\"automargin\":true,\"gridcolor\":\"white\",\"linecolor\":\"white\",\"ticks\":\"\",\"title\":{\"standoff\":15},\"zerolinecolor\":\"white\",\"zerolinewidth\":2},\"yaxis\":{\"automargin\":true,\"gridcolor\":\"white\",\"linecolor\":\"white\",\"ticks\":\"\",\"title\":{\"standoff\":15},\"zerolinecolor\":\"white\",\"zerolinewidth\":2}}}},                        {\"responsive\": true}                    ).then(function(){\n",
       "                            \n",
       "var gd = document.getElementById('b963fa0e-8e51-430e-9306-1afa3d55f4ec');\n",
       "var x = new MutationObserver(function (mutations, observer) {{\n",
       "        var display = window.getComputedStyle(gd).display;\n",
       "        if (!display || display === 'none') {{\n",
       "            console.log([gd, 'removed!']);\n",
       "            Plotly.purge(gd);\n",
       "            observer.disconnect();\n",
       "        }}\n",
       "}});\n",
       "\n",
       "// Listen for the removal of the full notebook cells\n",
       "var notebookContainer = gd.closest('#notebook-container');\n",
       "if (notebookContainer) {{\n",
       "    x.observe(notebookContainer, {childList: true});\n",
       "}}\n",
       "\n",
       "// Listen for the clearing of the current output cell\n",
       "var outputEl = gd.closest('.output');\n",
       "if (outputEl) {{\n",
       "    x.observe(outputEl, {childList: true});\n",
       "}}\n",
       "\n",
       "                        })                };                });            </script>        </div>"
      ]
     },
     "metadata": {},
     "output_type": "display_data"
    }
   ],
   "source": [
    "# How to visualize using Bar chart in go module (ployly.graph_objs)\n",
    "# set x and y axis in Bar chart\n",
    "\n",
    "trace=go.Bar(x=emojis, y=freq) \n",
    "iplot([trace])"
   ]
  },
  {
   "cell_type": "code",
   "execution_count": null,
   "id": "a8af66ce",
   "metadata": {},
   "outputs": [],
   "source": []
  }
 ],
 "metadata": {
  "kernelspec": {
   "display_name": "Python 3",
   "language": "python",
   "name": "python3"
  },
  "language_info": {
   "codemirror_mode": {
    "name": "ipython",
    "version": 3
   },
   "file_extension": ".py",
   "mimetype": "text/x-python",
   "name": "python",
   "nbconvert_exporter": "python",
   "pygments_lexer": "ipython3",
   "version": "3.8.8"
  }
 },
 "nbformat": 4,
 "nbformat_minor": 5
}
